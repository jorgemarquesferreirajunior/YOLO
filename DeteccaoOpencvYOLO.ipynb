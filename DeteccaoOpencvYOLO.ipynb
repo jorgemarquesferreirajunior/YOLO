{
  "nbformat": 4,
  "nbformat_minor": 0,
  "metadata": {
    "colab": {
      "provenance": [],
      "gpuType": "T4",
      "include_colab_link": true
    },
    "kernelspec": {
      "name": "python3",
      "display_name": "Python 3"
    },
    "accelerator": "GPU"
  },
  "cells": [
    {
      "cell_type": "markdown",
      "metadata": {
        "id": "view-in-github",
        "colab_type": "text"
      },
      "source": [
        "<a href=\"https://colab.research.google.com/github/jorgemarquesferreirajunior/YOLO/blob/main/DeteccaoOpencvYOLO.ipynb\" target=\"_parent\"><img src=\"https://colab.research.google.com/assets/colab-badge.svg\" alt=\"Open In Colab\"/></a>"
      ]
    },
    {
      "cell_type": "markdown",
      "metadata": {
        "id": "7c0p0eWP672d"
      },
      "source": [
        "# Detectando objetos com YOLO v4 - implementação com OpenCV"
      ]
    },
    {
      "cell_type": "markdown",
      "metadata": {
        "id": "qdqDEz3C7Gsw"
      },
      "source": [
        "## Etapa 1 - Importando as bibliotecas"
      ]
    },
    {
      "cell_type": "code",
      "metadata": {
        "id": "DtvH1YpK_zHl"
      },
      "source": [
        "import cv2\n",
        "print(cv2.__version__)"
      ],
      "execution_count": null,
      "outputs": []
    },
    {
      "cell_type": "code",
      "metadata": {
        "id": "XaVMrPOcAG5A"
      },
      "source": [
        "#!pip install opencv-python==4.4.0.40"
      ],
      "execution_count": null,
      "outputs": []
    },
    {
      "cell_type": "code",
      "metadata": {
        "id": "FIzdrNFxAdeM"
      },
      "source": [
        "import cv2\n",
        "import numpy as np\n",
        "import time\n",
        "import os\n",
        "import matplotlib.pyplot as plt\n",
        "from google.colab.patches import cv2_imshow\n",
        "import zipfile\n",
        "print(cv2.__version__)"
      ],
      "execution_count": null,
      "outputs": []
    },
    {
      "cell_type": "markdown",
      "metadata": {
        "id": "05vKSzso7Kvw"
      },
      "source": [
        "## Etapa 2 - Conectando com o Google Drive"
      ]
    },
    {
      "cell_type": "code",
      "metadata": {
        "id": "eHwcI7e9A6LB"
      },
      "source": [
        "from google.colab import drive\n",
        "drive.mount('/content/Drive')"
      ],
      "execution_count": null,
      "outputs": []
    },
    {
      "cell_type": "markdown",
      "metadata": {
        "id": "PxlRGgZV7d_r"
      },
      "source": [
        "## Etapa 3 - Carregando os arquivos do modelo treinado"
      ]
    },
    {
      "cell_type": "code",
      "metadata": {
        "id": "X2d8HFZQBy2O"
      },
      "source": [
        "path = '/content/Drive/MyDrive/ColabNotebooks/Curso-DeteccaoDeObjetosYolo/DataBase-recursos-curso-Yolo/YOLO/modelo_YOLOv4.zip'\n",
        "zip_object = zipfile.ZipFile(file=path, mode='r')\n",
        "zip_object.extractall('./')\n",
        "zip_object.close()"
      ],
      "execution_count": null,
      "outputs": []
    },
    {
      "cell_type": "code",
      "metadata": {
        "id": "P45vPOyvCXvC"
      },
      "source": [
        "labels_path = os.path.sep.join(['/content/cfg', 'coco.names'])\n",
        "labels_path"
      ],
      "execution_count": null,
      "outputs": []
    },
    {
      "cell_type": "code",
      "metadata": {
        "id": "zjrXm-iSCwT3"
      },
      "source": [
        "LABELS = open(labels_path).read().strip().split('\\n')\n",
        "print(LABELS)"
      ],
      "execution_count": null,
      "outputs": []
    },
    {
      "cell_type": "code",
      "metadata": {
        "id": "l5a_mAwNDOuU"
      },
      "source": [
        "len(LABELS)"
      ],
      "execution_count": null,
      "outputs": []
    },
    {
      "cell_type": "code",
      "metadata": {
        "id": "cSWZrqq1DTx9"
      },
      "source": [
        "weights_path = os.path.sep.join(['/content', 'yolov4.weights'])\n",
        "config_path = os.path.sep.join(['/content/cfg', 'yolov4.cfg'])\n",
        "weights_path, config_path"
      ],
      "execution_count": null,
      "outputs": []
    },
    {
      "cell_type": "code",
      "metadata": {
        "id": "yORISUrxDtgi"
      },
      "source": [
        "net = cv2.dnn.readNet(config_path, weights_path)"
      ],
      "execution_count": null,
      "outputs": []
    },
    {
      "cell_type": "code",
      "metadata": {
        "id": "GEAHrG-oECEb"
      },
      "source": [
        "net"
      ],
      "execution_count": null,
      "outputs": []
    },
    {
      "cell_type": "markdown",
      "metadata": {
        "id": "O3zdFwT881pS"
      },
      "source": [
        "## Etapa 4 - Definindo mais configurações para a detecção"
      ]
    },
    {
      "cell_type": "code",
      "metadata": {
        "id": "GB7OBCX4FrNh"
      },
      "source": [
        "COLORS = np.random.randint(0, 255, size=(len(LABELS), 3), dtype='uint8')\n",
        "print(COLORS)"
      ],
      "execution_count": null,
      "outputs": []
    },
    {
      "cell_type": "code",
      "metadata": {
        "id": "_PQrnhoTG3Uj"
      },
      "source": [
        "layerNames = net.getLayerNames()\n",
        "print('Todas as camadas')\n",
        "print(layerNames)\n",
        "print('Total de camadas: ' + str(len(layerNames)))"
      ],
      "execution_count": null,
      "outputs": []
    },
    {
      "cell_type": "code",
      "metadata": {
        "id": "nF1JXYkmHmbE"
      },
      "source": [
        "print('Indices das camadas de saída')\n",
        "print(net.getUnconnectedOutLayers())\n",
        "print('Camadas de saída')\n",
        "ln = net.getUnconnectedOutLayersNames()\n",
        "print(ln)"
      ],
      "execution_count": null,
      "outputs": []
    },
    {
      "cell_type": "markdown",
      "metadata": {
        "id": "Bzv-6h7477z5"
      },
      "source": [
        "## Etapa 5 - Carregando a imagem onde será feita a detecção"
      ]
    },
    {
      "cell_type": "code",
      "metadata": {
        "id": "bGt9k_pdKapl"
      },
      "source": [
        "def mostrar(img):\n",
        "  fig = plt.gcf()\n",
        "  fig.set_size_inches(16,10)\n",
        "  plt.axis('off')\n",
        "  plt.imshow(cv2.cvtColor(img, cv2.COLOR_BGR2RGB))\n",
        "  plt.show()"
      ],
      "execution_count": null,
      "outputs": []
    },
    {
      "cell_type": "code",
      "source": [
        "parent_dir = os.path.dirname(path)\n",
        "path, parent_dir"
      ],
      "metadata": {
        "id": "DzK6xYsE2OLk"
      },
      "execution_count": null,
      "outputs": []
    },
    {
      "cell_type": "code",
      "source": [
        "import subprocess"
      ],
      "metadata": {
        "id": "TRaBxwX76G0P"
      },
      "execution_count": null,
      "outputs": []
    },
    {
      "cell_type": "code",
      "source": [
        "images_path =  os.path.join(parent_dir, 'imagens')\n",
        "result = subprocess.run(['ls', images_path], capture_output=True, text=True)\n",
        "print(result.stdout)\n",
        "images_path = [os.path.join(images_path, f) for f in os.listdir(images_path) if f.lower().endswith('.jpg')]\n",
        "images_path"
      ],
      "metadata": {
        "id": "yYWeKANr6WLf"
      },
      "execution_count": null,
      "outputs": []
    },
    {
      "cell_type": "code",
      "metadata": {
        "id": "9tibuNJDKwU8"
      },
      "source": [
        "for img in images_path:\n",
        "    mostrar(cv2.imread(img))\n",
        "\n",
        "imagem = cv2.imread(images_path[0])"
      ],
      "execution_count": null,
      "outputs": []
    },
    {
      "cell_type": "code",
      "metadata": {
        "id": "svCOX7mgL_n8"
      },
      "source": [
        "type(imagem)"
      ],
      "execution_count": null,
      "outputs": []
    },
    {
      "cell_type": "code",
      "metadata": {
        "id": "X3_dXsUbMrNo"
      },
      "source": [
        "print(imagem)"
      ],
      "execution_count": null,
      "outputs": []
    },
    {
      "cell_type": "code",
      "metadata": {
        "id": "tWeduxfzLBIT"
      },
      "source": [
        "imagem_cp = imagem.copy()"
      ],
      "execution_count": null,
      "outputs": []
    },
    {
      "cell_type": "code",
      "metadata": {
        "id": "_9n5xAc7LMMl"
      },
      "source": [
        "imagem.shape"
      ],
      "execution_count": null,
      "outputs": []
    },
    {
      "cell_type": "code",
      "metadata": {
        "id": "omChHSwULHEF"
      },
      "source": [
        "(H, W) = imagem.shape[:2]\n",
        "print('Altura: ' + str(H) + '\\nLargura: ' + str(W))"
      ],
      "execution_count": null,
      "outputs": []
    },
    {
      "cell_type": "markdown",
      "metadata": {
        "id": "Iqc359lDATAh"
      },
      "source": [
        "## Etapa 6 - Processando a imagem de entrada"
      ]
    },
    {
      "cell_type": "code",
      "metadata": {
        "id": "RB55n4CDLjnI"
      },
      "source": [
        "inicio = time.time()\n",
        "\n",
        "blob = cv2.dnn.blobFromImage(imagem, 1 / 255.0, (416, 416), swapRB = True, crop = False)\n",
        "net.setInput(blob)\n",
        "layer_outputs = net.forward(ln)\n",
        "\n",
        "termino = time.time()\n",
        "print('YOLO levou {:.2f} segundos'.format(termino - inicio))"
      ],
      "execution_count": null,
      "outputs": []
    },
    {
      "cell_type": "markdown",
      "metadata": {
        "id": "BQzpImT4-H1F"
      },
      "source": [
        "## Etapa 7 - Definindo as variáveis"
      ]
    },
    {
      "cell_type": "code",
      "metadata": {
        "id": "PHJaztNzR1RY"
      },
      "source": [
        "threshold = 0.5\n",
        "threshold_NMS = 0.3\n",
        "caixas = []\n",
        "confiancas = []\n",
        "IDclasses = []"
      ],
      "execution_count": null,
      "outputs": []
    },
    {
      "cell_type": "markdown",
      "metadata": {
        "id": "6Wkis49_-VxD"
      },
      "source": [
        "## Etapa 8 - Realizando a predição"
      ]
    },
    {
      "cell_type": "code",
      "metadata": {
        "id": "pHO0g4kYS4PG"
      },
      "source": [
        "len(layer_outputs)"
      ],
      "execution_count": null,
      "outputs": []
    },
    {
      "cell_type": "code",
      "metadata": {
        "id": "yx6J8PlSUKwW"
      },
      "source": [
        "layer_outputs[0], len(layer_outputs[0])"
      ],
      "execution_count": null,
      "outputs": []
    },
    {
      "cell_type": "code",
      "metadata": {
        "id": "CG81R5J8Ujg2"
      },
      "source": [
        "layer_outputs[1]"
      ],
      "execution_count": null,
      "outputs": []
    },
    {
      "cell_type": "code",
      "metadata": {
        "id": "VZ2ipyIoUo68"
      },
      "source": [
        "layer_outputs[2], layer_outputs[2][0], len(layer_outputs[2][0])"
      ],
      "execution_count": null,
      "outputs": []
    },
    {
      "cell_type": "code",
      "metadata": {
        "id": "MwmWNvEVWTwb"
      },
      "source": [
        "print(LABELS)"
      ],
      "execution_count": null,
      "outputs": []
    },
    {
      "cell_type": "code",
      "metadata": {
        "id": "zsbiuFWoX_V7"
      },
      "source": [
        "LABELS[16]"
      ],
      "execution_count": null,
      "outputs": []
    },
    {
      "cell_type": "code",
      "metadata": {
        "id": "6nxREy2KWHvD"
      },
      "source": [
        "np.argmax(np.array([0.10, 0.80, 0.10]))"
      ],
      "execution_count": null,
      "outputs": []
    },
    {
      "cell_type": "code",
      "metadata": {
        "id": "6Ji_KlfTWjWp"
      },
      "source": [
        "teste = np.array([0.10, 0.80, 0.10])"
      ],
      "execution_count": null,
      "outputs": []
    },
    {
      "cell_type": "code",
      "metadata": {
        "id": "Sx6VaMQcWpal"
      },
      "source": [
        "teste[1]"
      ],
      "execution_count": null,
      "outputs": []
    },
    {
      "cell_type": "code",
      "metadata": {
        "id": "MecxNLEPVWXR"
      },
      "source": [
        "for output in layer_outputs:\n",
        "  for detection in output:\n",
        "    scores = detection[5:]\n",
        "    classeID = np.argmax(scores)\n",
        "    confianca = scores[classeID]\n",
        "    if confianca > threshold:\n",
        "      print('scores: ' + str(scores))\n",
        "      print('classe mais provável: ' + str(classeID))\n",
        "      print('confiança: ' + str(confianca))\n",
        "\n",
        "      caixa = detection[0:4] * np.array([W, H, W, H])\n",
        "      (centerX, centerY, width, height) = caixa.astype('int')\n",
        "\n",
        "      x = int(centerX - (width / 2))\n",
        "      y = int(centerY - (height / 2))\n",
        "\n",
        "      caixas.append([x, y, int(width), int(height)])\n",
        "      confiancas.append(float(confianca))\n",
        "      IDclasses.append(classeID)"
      ],
      "execution_count": null,
      "outputs": []
    },
    {
      "cell_type": "code",
      "metadata": {
        "id": "_JskZMUiZTyI"
      },
      "source": [
        "print(caixas), len(caixas)"
      ],
      "execution_count": null,
      "outputs": []
    },
    {
      "cell_type": "code",
      "metadata": {
        "id": "WCXiMohHZbnb"
      },
      "source": [
        "print(confiancas), len(confiancas)"
      ],
      "execution_count": null,
      "outputs": []
    },
    {
      "cell_type": "code",
      "metadata": {
        "id": "k_E2x0ETZgYH"
      },
      "source": [
        "print(IDclasses), len(IDclasses)"
      ],
      "execution_count": null,
      "outputs": []
    },
    {
      "cell_type": "markdown",
      "metadata": {
        "id": "55yl5egd-jXT"
      },
      "source": [
        "## Etapa 9 - Aplicando a Non-Maxima Suppression"
      ]
    },
    {
      "cell_type": "code",
      "metadata": {
        "id": "rnEzdbHwaWO5"
      },
      "source": [
        "objs = cv2.dnn.NMSBoxes(caixas, confiancas, threshold, threshold_NMS)"
      ],
      "execution_count": null,
      "outputs": []
    },
    {
      "cell_type": "code",
      "metadata": {
        "id": "IRAOM2K6astb"
      },
      "source": [
        "objs"
      ],
      "execution_count": null,
      "outputs": []
    },
    {
      "cell_type": "code",
      "metadata": {
        "id": "2h0laKh8bPJl"
      },
      "source": [
        "print(objs.flatten())"
      ],
      "execution_count": null,
      "outputs": []
    },
    {
      "cell_type": "code",
      "metadata": {
        "id": "g_zPwsJZa2DC"
      },
      "source": [
        "confiancas[7], confiancas[15], confiancas[11]"
      ],
      "execution_count": null,
      "outputs": []
    },
    {
      "cell_type": "code",
      "metadata": {
        "id": "TTFqkpfaa9SW"
      },
      "source": [
        "confiancas[0]"
      ],
      "execution_count": null,
      "outputs": []
    },
    {
      "cell_type": "markdown",
      "metadata": {
        "id": "aOwTXTg--tYj"
      },
      "source": [
        "## Etapa 10 - Mostrando o resultado da detecção na imagem"
      ]
    },
    {
      "cell_type": "code",
      "metadata": {
        "id": "BSF301RCbFZs"
      },
      "source": [
        "if len(objs) > 0:\n",
        "  for i in objs.flatten():\n",
        "    (x, y) = (caixas[i][0], caixas[i][1])\n",
        "    (w, h) = (caixas[i][2], caixas[i][3])\n",
        "\n",
        "    objeto = imagem_cp[y:y + h, x:x + w]\n",
        "    cv2_imshow(objeto)\n",
        "\n",
        "    cor = [int(c) for c in COLORS[IDclasses[i]]]\n",
        "\n",
        "    cv2.rectangle(imagem, (x, y), (x + w, y + h), cor, 2)\n",
        "    texto = \"{}: {:.4f}\".format(LABELS[IDclasses[i]], confiancas[i])\n",
        "    cv2.putText(imagem, texto, (x, y - 5), cv2.FONT_HERSHEY_SIMPLEX, 0.5, cor, 2)"
      ],
      "execution_count": null,
      "outputs": []
    },
    {
      "cell_type": "code",
      "metadata": {
        "id": "ACGK3udKc7ON"
      },
      "source": [
        "mostrar(imagem)"
      ],
      "execution_count": null,
      "outputs": []
    },
    {
      "cell_type": "code",
      "metadata": {
        "id": "VqOLmbZAdAIZ"
      },
      "source": [
        "cv2.imwrite('resultado.jpg', imagem)"
      ],
      "execution_count": null,
      "outputs": []
    }
  ]
}