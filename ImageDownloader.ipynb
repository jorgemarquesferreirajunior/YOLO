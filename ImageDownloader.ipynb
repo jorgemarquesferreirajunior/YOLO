{
  "cells": [
    {
      "cell_type": "markdown",
      "metadata": {
        "id": "view-in-github",
        "colab_type": "text"
      },
      "source": [
        "<a href=\"https://colab.research.google.com/github/jorgemarquesferreirajunior/YOLO/blob/main/ImageDownloader.ipynb\" target=\"_parent\"><img src=\"https://colab.research.google.com/assets/colab-badge.svg\" alt=\"Open In Colab\"/></a>"
      ]
    },
    {
      "cell_type": "markdown",
      "metadata": {
        "id": "AhDAol6piZ7K"
      },
      "source": [
        "##01- Ativar GPU e Acessar Google Drive"
      ]
    },
    {
      "cell_type": "code",
      "execution_count": null,
      "metadata": {
        "id": "q-_5zDF7iVRx",
        "colab": {
          "base_uri": "https://localhost:8080/"
        },
        "outputId": "b36c63f9-1bd0-4690-9196-cca6ce1e1eab"
      },
      "outputs": [
        {
          "output_type": "stream",
          "name": "stdout",
          "text": [
            "/device:GPU:0\n"
          ]
        }
      ],
      "source": [
        "import tensorflow as tf\n",
        "GPU = tf.test.gpu_device_name()\n",
        "print(GPU)\n",
        "\n",
        "# Saida esperada: /device:GPU:0"
      ]
    },
    {
      "cell_type": "code",
      "execution_count": null,
      "metadata": {
        "id": "0Xj8_Qa7ix8a",
        "colab": {
          "base_uri": "https://localhost:8080/"
        },
        "outputId": "7462a6ef-7ca8-480d-acc5-f9e1eea38b17"
      },
      "outputs": [
        {
          "output_type": "stream",
          "name": "stdout",
          "text": [
            "Mounted at /content/gdrive\n"
          ]
        }
      ],
      "source": [
        "from google.colab import drive\n",
        "drive.mount('/content/gdrive')\n",
        "\n",
        "# Saida esperada: Mounted at, /content/gdrive"
      ]
    },
    {
      "cell_type": "markdown",
      "metadata": {
        "id": "-u8ahKvJXjf-"
      },
      "source": [
        "##02- Baixar ferramenta para download de imagens, bibliotecas necessárias e conversor de anotações yolo"
      ]
    },
    {
      "cell_type": "code",
      "execution_count": null,
      "metadata": {
        "id": "O7GjITVAXpP5"
      },
      "outputs": [],
      "source": [
        "!git clone https://github.com/EscVM/OIDv4_ToolKit.git"
      ]
    },
    {
      "cell_type": "code",
      "execution_count": null,
      "metadata": {
        "id": "WMATpYjaXx1J"
      },
      "outputs": [],
      "source": [
        "cd /content/OIDv4_ToolKit"
      ]
    },
    {
      "cell_type": "code",
      "execution_count": null,
      "metadata": {
        "id": "CDR1cu3sXyA4"
      },
      "outputs": [],
      "source": [
        "!pip3 install -r /content/OIDv4_ToolKit/requirements.txt"
      ]
    },
    {
      "cell_type": "code",
      "execution_count": null,
      "metadata": {
        "id": "_pEduwl-fHTW",
        "colab": {
          "base_uri": "https://localhost:8080/"
        },
        "outputId": "6863b3b0-dddd-453b-85c0-2d0d879d5d19"
      },
      "outputs": [
        {
          "output_type": "stream",
          "name": "stdout",
          "text": [
            "/content\n"
          ]
        }
      ],
      "source": [
        "cd /content/"
      ]
    },
    {
      "cell_type": "code",
      "execution_count": null,
      "metadata": {
        "id": "EDtGbA--gHbi"
      },
      "outputs": [],
      "source": [
        "!git clone https://github.com/jorgemarquesferreirajunior/converter_annotations_yolo.git"
      ]
    },
    {
      "cell_type": "code",
      "execution_count": null,
      "metadata": {
        "id": "vFdM3wODfXqT"
      },
      "outputs": [],
      "source": [
        "!cp /content/converter_annotations_yolo/converter_annotations.py /content/OIDv4_ToolKit"
      ]
    },
    {
      "cell_type": "markdown",
      "metadata": {
        "id": "IqvUCkPHX9Ea"
      },
      "source": [
        "##03- Baixar imagens desejadas"
      ]
    },
    {
      "cell_type": "code",
      "source": [
        "cd /content/OIDv4_ToolKit"
      ],
      "metadata": {
        "id": "u42uH-nIwomT"
      },
      "execution_count": null,
      "outputs": []
    },
    {
      "cell_type": "code",
      "execution_count": null,
      "metadata": {
        "id": "wk2WdLPgYALA"
      },
      "outputs": [],
      "source": [
        "!python main.py downloader --classes Pig --type_csv train --limit 2000 --multiclasses 1 --y"
      ]
    },
    {
      "cell_type": "code",
      "execution_count": null,
      "metadata": {
        "id": "RNew7hIgYOan"
      },
      "outputs": [],
      "source": [
        "!python main.py downloader --classes Pig --type_csv test --limit 400 --multiclasses 1 --y"
      ]
    },
    {
      "cell_type": "markdown",
      "metadata": {
        "id": "q94M_72uYlY8"
      },
      "source": [
        "##04- Compactar e salvar imagens no drive"
      ]
    },
    {
      "cell_type": "code",
      "execution_count": null,
      "metadata": {
        "id": "ZrmW3dAka5lC"
      },
      "outputs": [],
      "source": [
        "cd/content/OIDv4_ToolKit/"
      ]
    },
    {
      "cell_type": "code",
      "execution_count": null,
      "metadata": {
        "id": "UpC8bs6qZCUq"
      },
      "outputs": [],
      "source": [
        "!zip -r /content/gdrive/MyDrive/ColabNotebooks/PigDetector/dataset.zip /content/OIDv4_ToolKit/OID"
      ]
    },
    {
      "cell_type": "code",
      "source": [
        "!cp -r /content/OIDv4_ToolKit/OID /content/drive/MyDrive/ColabNotebooks/PigDetector"
      ],
      "metadata": {
        "id": "M-yp-uxMJLTF"
      },
      "execution_count": null,
      "outputs": []
    }
  ],
  "metadata": {
    "colab": {
      "provenance": [],
      "gpuType": "T4",
      "mount_file_id": "1VP05WFelAeFbR8PySvblOg6dgSRygm-8",
      "authorship_tag": "ABX9TyOmL/eYvBchptWq5hcbh6YX",
      "include_colab_link": true
    },
    "kernelspec": {
      "display_name": "Python 3",
      "name": "python3"
    },
    "language_info": {
      "name": "python"
    },
    "accelerator": "GPU"
  },
  "nbformat": 4,
  "nbformat_minor": 0
}