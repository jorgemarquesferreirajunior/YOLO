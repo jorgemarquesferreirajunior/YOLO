{
  "nbformat": 4,
  "nbformat_minor": 0,
  "metadata": {
    "colab": {
      "provenance": [],
      "collapsed_sections": [
        "1jKBfDS-nkbn"
      ],
      "include_colab_link": true
    },
    "kernelspec": {
      "name": "python3",
      "display_name": "Python 3"
    }
  },
  "cells": [
    {
      "cell_type": "markdown",
      "metadata": {
        "id": "view-in-github",
        "colab_type": "text"
      },
      "source": [
        "<a href=\"https://colab.research.google.com/github/jorgemarquesferreirajunior/YOLO/blob/main/ContagemDeObjetosDetectados.ipynb\" target=\"_parent\"><img src=\"https://colab.research.google.com/assets/colab-badge.svg\" alt=\"Open In Colab\"/></a>"
      ]
    },
    {
      "cell_type": "markdown",
      "metadata": {
        "id": "7c0p0eWP672d"
      },
      "source": [
        "# Detectando objetos com YOLO e OpenCV - Explorando mais opções"
      ]
    },
    {
      "cell_type": "markdown",
      "metadata": {
        "id": "qdqDEz3C7Gsw"
      },
      "source": [
        "## Etapa 1 - Importando as bibliotecas"
      ]
    },
    {
      "cell_type": "code",
      "metadata": {
        "id": "G6Sl5Vhf4q0e"
      },
      "source": [
        "import cv2\n",
        "print(cv2.__version__)"
      ],
      "execution_count": null,
      "outputs": []
    },
    {
      "cell_type": "code",
      "metadata": {
        "id": "iRBF8b5o0Ae7"
      },
      "source": [
        "!pip install opencv-python==4.4.0.40"
      ],
      "execution_count": null,
      "outputs": []
    },
    {
      "cell_type": "code",
      "metadata": {
        "id": "ONee8yfzbFJp"
      },
      "source": [
        "import cv2\n",
        "import numpy as np\n",
        "import time\n",
        "import os\n",
        "import matplotlib.pyplot as plt\n",
        "from google.colab.patches import cv2_imshow\n",
        "import zipfile\n",
        "print(cv2.__version__)"
      ],
      "execution_count": null,
      "outputs": []
    },
    {
      "cell_type": "markdown",
      "metadata": {
        "id": "05vKSzso7Kvw"
      },
      "source": [
        "## Etapa 2 - Conectando com o Google Drive"
      ]
    },
    {
      "cell_type": "code",
      "metadata": {
        "id": "LlXvULPEa-bZ"
      },
      "source": [
        "from google.colab import drive\n",
        "drive.mount('/content/gdrive')"
      ],
      "execution_count": null,
      "outputs": []
    },
    {
      "cell_type": "markdown",
      "metadata": {
        "id": "PxlRGgZV7d_r"
      },
      "source": [
        "## Etapa 3 - Carregando os arquivos do modelo treinado"
      ]
    },
    {
      "cell_type": "code",
      "metadata": {
        "id": "-TmtEny4sdyH"
      },
      "source": [
        "path = '/content/gdrive/My Drive/Cursos - recursos/YOLO/modelo_YOLOv4.zip'\n",
        "zip_object = zipfile.ZipFile(file=path, mode=\"r\")\n",
        "zip_object.extractall(\"./\")\n",
        "zip_object.close()"
      ],
      "execution_count": null,
      "outputs": []
    },
    {
      "cell_type": "code",
      "metadata": {
        "id": "jkGd4ASWbLk5"
      },
      "source": [
        "labelsPath = os.path.sep.join(['/content/cfg', \"coco.names\"])\n",
        "LABELS = open(labelsPath).read().strip().split(\"\\n\")"
      ],
      "execution_count": null,
      "outputs": []
    },
    {
      "cell_type": "code",
      "metadata": {
        "id": "QmxJiokrjy9_"
      },
      "source": [
        "weightsPath = os.path.sep.join(['/content/', \"yolov4.weights\"])\n",
        "configPath = os.path.sep.join(['/content/cfg', \"yolov4.cfg\"])"
      ],
      "execution_count": null,
      "outputs": []
    },
    {
      "cell_type": "code",
      "metadata": {
        "id": "FunsuwKLj9V0"
      },
      "source": [
        "net = cv2.dnn.readNet(configPath, weightsPath)"
      ],
      "execution_count": null,
      "outputs": []
    },
    {
      "cell_type": "markdown",
      "metadata": {
        "id": "O3zdFwT881pS"
      },
      "source": [
        "## Etapa 4 - Definindo mais configurações para a detecção"
      ]
    },
    {
      "cell_type": "code",
      "metadata": {
        "id": "Dul5BbIkKaqj"
      },
      "source": [
        "np.random.seed(42)\n",
        "COLORS = np.random.randint(0, 255, size=(len(LABELS), 3), dtype=\"uint8\")"
      ],
      "execution_count": null,
      "outputs": []
    },
    {
      "cell_type": "code",
      "metadata": {
        "id": "RRrXAEWHs27Y"
      },
      "source": [
        "ln = net.getLayerNames()\n",
        "print(\"Todas as camadas (layers):\")\n",
        "print(ln)\n",
        "print(\"Total: \"+ str(len(ln)))\n",
        "print(\"Camadas de saída: \")\n",
        "print(net.getUnconnectedOutLayers())\n",
        "ln = [ln[i[0] - 1] for i in net.getUnconnectedOutLayers()]\n",
        "print(ln)"
      ],
      "execution_count": null,
      "outputs": []
    },
    {
      "cell_type": "markdown",
      "metadata": {
        "id": "Bzv-6h7477z5"
      },
      "source": [
        "## Etapa 5 - Carregando a imagem onde será feita a detecção"
      ]
    },
    {
      "cell_type": "code",
      "metadata": {
        "id": "dg5ZQD6soINW"
      },
      "source": [
        "def mostrar(img):\n",
        "  fig = plt.gcf()\n",
        "  fig.set_size_inches(16, 10)\n",
        "  plt.axis(\"off\")\n",
        "  plt.imshow(cv2.cvtColor(img, cv2.COLOR_BGR2RGB))\n",
        "  plt.show()"
      ],
      "execution_count": null,
      "outputs": []
    },
    {
      "cell_type": "code",
      "metadata": {
        "id": "Ybrud8uIbQ2n"
      },
      "source": [
        "imagem = cv2.imread(\"/content/gdrive/My Drive/Cursos - recursos/YOLO/imagens/cachorros02.jpg\")\n",
        "mostrar(imagem)\n",
        "imagem_cp = imagem.copy()\n",
        "(H, W) = imagem.shape[:2]\n",
        "print(\"Altura: \" + str(H) + \"\\nLargura: \" + str(W))"
      ],
      "execution_count": null,
      "outputs": []
    },
    {
      "cell_type": "markdown",
      "metadata": {
        "id": "Iqc359lDATAh"
      },
      "source": [
        "## Etapa 6 - Processando a imagem de entrada"
      ]
    },
    {
      "cell_type": "markdown",
      "metadata": {
        "id": "JKqI-fx99utO"
      },
      "source": [
        "### Redimensionamento da imagem (opcional)"
      ]
    },
    {
      "cell_type": "code",
      "metadata": {
        "id": "37r-QzTKwvqk"
      },
      "source": [
        "imagem.shape"
      ],
      "execution_count": null,
      "outputs": []
    },
    {
      "cell_type": "code",
      "metadata": {
        "id": "TEYwAbwvxeNb"
      },
      "source": [
        "proporcao = imagem.shape[1] / imagem.shape[0]\n",
        "proporcao"
      ],
      "execution_count": null,
      "outputs": []
    },
    {
      "cell_type": "code",
      "metadata": {
        "id": "cZD0M-7sxmzL"
      },
      "source": [
        "1500 / 1.5"
      ],
      "execution_count": null,
      "outputs": []
    },
    {
      "cell_type": "code",
      "metadata": {
        "id": "9_to3osawVx1"
      },
      "source": [
        "def redimensionar(imagem, largura_maxima = 600):\n",
        "  if imagem.shape[1] > largura_maxima:\n",
        "    proporcao = imagem.shape[1] / imagem.shape[0]\n",
        "    imagem_largura = largura_maxima\n",
        "    imagem_altura = int(imagem_largura / proporcao)\n",
        "  else:\n",
        "    imagem_largura = imagem.shape[1]\n",
        "    imagem_altura = imagem.shape[0]\n",
        "\n",
        "  imagem = cv2.resize(imagem, (imagem_largura, imagem_altura))\n",
        "  return imagem"
      ],
      "execution_count": null,
      "outputs": []
    },
    {
      "cell_type": "code",
      "metadata": {
        "id": "od-xOzARySDI"
      },
      "source": [
        "imagem = redimensionar(imagem)"
      ],
      "execution_count": null,
      "outputs": []
    },
    {
      "cell_type": "code",
      "metadata": {
        "id": "DlxldatRybWh"
      },
      "source": [
        "mostrar(imagem)\n",
        "(H, W) = imagem.shape[:2]\n",
        "imagem_cp = imagem.copy()\n",
        "print('Altura: ' + str(H) + '\\nLargura: ' + str(W))"
      ],
      "execution_count": null,
      "outputs": []
    },
    {
      "cell_type": "markdown",
      "metadata": {
        "id": "oFoxEu5i931d"
      },
      "source": [
        "### Construindo o blob da imagem"
      ]
    },
    {
      "cell_type": "code",
      "metadata": {
        "id": "OQ7J84o70ao8"
      },
      "source": [
        "def blob_imagem(net, imagem, mostrar_texto=True):\n",
        "  inicio = time.time()\n",
        "\n",
        "  blob = cv2.dnn.blobFromImage(imagem, 1 / 255.0, (416, 416), swapRB=True, crop=False)\n",
        "  net.setInput(blob)\n",
        "  layerOutputs = net.forward(ln)\n",
        "\n",
        "  termino = time.time()\n",
        "\n",
        "  if mostrar_texto:\n",
        "    print(\"YOLO levou {:.2f} segundos\".format(termino - inicio))\n",
        "\n",
        "  return net, imagem, layerOutputs"
      ],
      "execution_count": null,
      "outputs": []
    },
    {
      "cell_type": "code",
      "metadata": {
        "id": "MMfvHrPW6fk1"
      },
      "source": [
        "net, imagem, layerOutputs = blob_imagem(net, imagem)"
      ],
      "execution_count": null,
      "outputs": []
    },
    {
      "cell_type": "markdown",
      "metadata": {
        "id": "BQzpImT4-H1F"
      },
      "source": [
        "## Etapa 7 - Definindo as variáveis"
      ]
    },
    {
      "cell_type": "code",
      "metadata": {
        "id": "K8JNDGTcIgS7"
      },
      "source": [
        "_threshold = 0.5\n",
        "_threshold_NMS = 0.3\n",
        "caixas = []\n",
        "confiancas = []\n",
        "IDclasses = []"
      ],
      "execution_count": null,
      "outputs": []
    },
    {
      "cell_type": "markdown",
      "metadata": {
        "id": "6Wkis49_-VxD"
      },
      "source": [
        "## Etapa 8 - Realizando a predição"
      ]
    },
    {
      "cell_type": "code",
      "metadata": {
        "id": "_MOUOfivV-c5"
      },
      "source": [
        "def deteccoes(detection, _threshold, caixas, confiancas, IDclasses):\n",
        "  scores = detection[5:]\n",
        "  classeID = np.argmax(scores)\n",
        "  confianca = scores[classeID]\n",
        "\n",
        "  if confianca > _threshold:\n",
        "      caixa = detection[0:4] * np.array([W, H, W, H])\n",
        "      (centerX, centerY, width, height) = caixa.astype(\"int\")\n",
        "      x = int(centerX - (width / 2))\n",
        "      y = int(centerY - (height / 2))\n",
        "\n",
        "      caixas.append([x, y, int(width), int(height)])\n",
        "      confiancas.append(float(confianca))\n",
        "      IDclasses.append(classeID)\n",
        "\n",
        "  return caixas, confiancas, IDclasses"
      ],
      "execution_count": null,
      "outputs": []
    },
    {
      "cell_type": "code",
      "metadata": {
        "id": "lbDZouMEIT09"
      },
      "source": [
        "for output in layerOutputs:\n",
        "    for detection in output:\n",
        "        caixas, confiancas, IDclasses = deteccoes(detection, _threshold, caixas, confiancas, IDclasses)"
      ],
      "execution_count": null,
      "outputs": []
    },
    {
      "cell_type": "code",
      "metadata": {
        "id": "adjbbhjFo0O7"
      },
      "source": [
        "print(caixas)\n",
        "print(confiancas)\n",
        "print(IDclasses)"
      ],
      "execution_count": null,
      "outputs": []
    },
    {
      "cell_type": "code",
      "metadata": {
        "id": "pvnc_lmZ0Mvl"
      },
      "source": [
        "len(caixas)"
      ],
      "execution_count": null,
      "outputs": []
    },
    {
      "cell_type": "markdown",
      "metadata": {
        "id": "55yl5egd-jXT"
      },
      "source": [
        "## Etapa 9 - Aplicando a Non-Maxima Suppression"
      ]
    },
    {
      "cell_type": "code",
      "metadata": {
        "id": "5UHgYtxzyr-T"
      },
      "source": [
        "objs = cv2.dnn.NMSBoxes(caixas, confiancas, _threshold, _threshold_NMS)"
      ],
      "execution_count": null,
      "outputs": []
    },
    {
      "cell_type": "code",
      "metadata": {
        "id": "sUYsXRiIo87B"
      },
      "source": [
        "print(\"Objetos detectados: \" + str(len(objs)))"
      ],
      "execution_count": null,
      "outputs": []
    },
    {
      "cell_type": "markdown",
      "metadata": {
        "id": "aOwTXTg--tYj"
      },
      "source": [
        "## Etapa 10 - Mostrando o resultado da detecção na imagem"
      ]
    },
    {
      "cell_type": "code",
      "metadata": {
        "id": "-ETrpQKQ4pBa"
      },
      "source": [
        "def check_negativo(n):\n",
        "  if (n < 0):\n",
        "    return 0\n",
        "  else:\n",
        "    return n\n",
        "\n",
        "def funcoes_imagem(imagem, i, confiancas, caixas, COLORS, LABELS, mostrar_texto=True):\n",
        "  (x, y) = (caixas[i][0], caixas[i][1])\n",
        "  (w, h) = (caixas[i][2], caixas[i][3])\n",
        "  cor = [int(c) for c in COLORS[IDclasses[i]]]\n",
        "  cv2.rectangle(imagem, (x, y), (x + w, y + h), cor, 2)\n",
        "  texto = \"{}: {:.4f}\".format(LABELS[IDclasses[i]], confiancas[i])\n",
        "  if mostrar_texto:\n",
        "    print(\"> \" + texto)\n",
        "    print(x,y,w,h)\n",
        "  cv2.putText(imagem, texto, (x, y - 5), cv2.FONT_HERSHEY_SIMPLEX, 0.5, cor, 2)\n",
        "\n",
        "  return imagem,x,y,w,h"
      ],
      "execution_count": null,
      "outputs": []
    },
    {
      "cell_type": "code",
      "metadata": {
        "id": "zpuM32ocbYOI"
      },
      "source": [
        "if len(objs) > 0:\n",
        "  for i in objs.flatten():\n",
        "    imagem, x, y, w, h = funcoes_imagem(imagem, i, confiancas, caixas, COLORS, LABELS)\n",
        "    objeto = imagem_cp[y:y + h, x:x + w]\n",
        "    cv2_imshow(objeto)"
      ],
      "execution_count": null,
      "outputs": []
    },
    {
      "cell_type": "code",
      "metadata": {
        "id": "xBFKtxmDbb7E"
      },
      "source": [
        "mostrar(imagem)"
      ],
      "execution_count": null,
      "outputs": []
    },
    {
      "cell_type": "markdown",
      "metadata": {
        "id": "M7InXrxSnFuG"
      },
      "source": [
        "# Fazendo a detecção em múltiplas imagens de uma vez"
      ]
    },
    {
      "cell_type": "code",
      "metadata": {
        "id": "j7QPR1LH164D"
      },
      "source": [
        "path = '/content/gdrive/My Drive/Cursos - recursos/YOLO/imagens/fotos_teste.zip'\n",
        "zip_object = zipfile.ZipFile(file = path, mode = 'r')\n",
        "zip_object.extractall('./')\n",
        "zip_object.close()"
      ],
      "execution_count": null,
      "outputs": []
    },
    {
      "cell_type": "code",
      "metadata": {
        "id": "qv4zlVNN2fW0"
      },
      "source": [
        "diretorio_fotos = 'fotos_teste'\n",
        "caminhos = [os.path.join(diretorio_fotos, f) for f in os.listdir(diretorio_fotos)]\n",
        "print(caminhos)"
      ],
      "execution_count": null,
      "outputs": []
    },
    {
      "cell_type": "code",
      "metadata": {
        "id": "l7pYSpOX23v1"
      },
      "source": [
        "for caminho_imagem in caminhos:\n",
        "  try:\n",
        "    imagem = cv2.imread(caminho_imagem)\n",
        "    (H, W) = imagem.shape[:2]\n",
        "  except:\n",
        "    print('Erro ao carregar a imagem -> ' + caminho_imagem)\n",
        "    continue\n",
        "\n",
        "  imagem_cp = imagem.copy()\n",
        "  net, imagem, layer_outputs = blob_imagem(net, imagem)\n",
        "\n",
        "  caixas = []\n",
        "  confiancas = []\n",
        "  IDclasses = []\n",
        "\n",
        "  for output in layer_outputs:\n",
        "    for detection in output:\n",
        "      caixas, confiancas, IDclasses = deteccoes(detection, _threshold, caixas, confiancas, IDclasses)\n",
        "\n",
        "  objs = cv2.dnn.NMSBoxes(caixas, confiancas, _threshold, _threshold_NMS)\n",
        "\n",
        "  if len(objs) > 0:\n",
        "    for i in objs.flatten():\n",
        "      imagem, x, y, w, h = funcoes_imagem(imagem, i, confiancas, caixas, COLORS, LABELS, mostrar_texto=False)\n",
        "      objeto = imagem_cp[y:y + h, x:x + w]\n",
        "\n",
        "  mostrar(imagem)"
      ],
      "execution_count": null,
      "outputs": []
    },
    {
      "cell_type": "markdown",
      "metadata": {
        "id": "BcT3epJHnWaV"
      },
      "source": [
        "# Contando quantas vezes algum objeto específico apareceu em múltiplas imagens"
      ]
    },
    {
      "cell_type": "code",
      "metadata": {
        "id": "CmH4GfLVnWaX"
      },
      "source": [
        "diretorio_fotos = \"fotos_teste/\"\n",
        "caminhos = [os.path.join(diretorio_fotos, f) for f in os.listdir(diretorio_fotos)]\n",
        "print(caminhos)\n",
        "threshold = 0.5\n",
        "threshold_NMS = 0.3"
      ],
      "execution_count": null,
      "outputs": []
    },
    {
      "cell_type": "code",
      "metadata": {
        "id": "cMzBOqt569jT"
      },
      "source": [
        "contagem = 0\n",
        "contagem_total = 0\n",
        "\n",
        "for caminho_imagem in caminhos:\n",
        "  try:\n",
        "    imagem = cv2.imread(caminho_imagem)\n",
        "    (H, W) = imagem.shape[:2]\n",
        "  except:\n",
        "    print('Erro ao carregar a imagem -> ' + caminho_imagem)\n",
        "    continue\n",
        "\n",
        "  contagem = 0\n",
        "\n",
        "  imagem_cp = imagem.copy()\n",
        "  net, imagem, layer_outputs = blob_imagem(net, imagem)\n",
        "\n",
        "  caixas = []\n",
        "  confiancas = []\n",
        "  IDclasses = []\n",
        "\n",
        "  for output in layer_outputs:\n",
        "    for detection in output:\n",
        "      caixas, confiancas, IDclasses = deteccoes(detection, threshold, caixas, confiancas, IDclasses)\n",
        "\n",
        "  objs = cv2.dnn.NMSBoxes(caixas, confiancas, threshold, threshold_NMS)\n",
        "\n",
        "  if len(objs) > 0:\n",
        "    for i in objs.flatten():\n",
        "\n",
        "      if LABELS[IDclasses[i]] == 'person':\n",
        "        contagem += 1\n",
        "        contagem_total += 1\n",
        "\n",
        "      imagem, x, y, w, h = funcoes_imagem(imagem, i, confiancas, caixas, COLORS, LABELS, mostrar_texto=False)\n",
        "      objeto = imagem_cp[y:y + h, x:x + w]\n",
        "\n",
        "  print('Pessoas detectadas na imagem ' + str(caminho_imagem) + ': ' + str(contagem))\n",
        "  mostrar(imagem)"
      ],
      "execution_count": null,
      "outputs": []
    },
    {
      "cell_type": "code",
      "metadata": {
        "id": "0N9AKZ7C914O"
      },
      "source": [
        "print('Total de pessoas detectadas: ' + str(contagem_total))"
      ],
      "execution_count": null,
      "outputs": []
    },
    {
      "cell_type": "markdown",
      "metadata": {
        "id": "1jKBfDS-nkbn"
      },
      "source": [
        "# Fazendo a detecção apenas de objetos específicos do modelo"
      ]
    },
    {
      "cell_type": "code",
      "metadata": {
        "id": "hwnbfkQinkbq"
      },
      "source": [
        "diretorio_fotos = \"fotos_teste/\"\n",
        "caminhos = [os.path.join(diretorio_fotos, f) for f in os.listdir(diretorio_fotos)]\n",
        "print(caminhos)\n",
        "threshold = 0.5\n",
        "threshold_NMS = 0.3"
      ],
      "execution_count": null,
      "outputs": []
    },
    {
      "cell_type": "code",
      "metadata": {
        "id": "Ca9n_kKc-taG"
      },
      "source": [
        "classes = ['dog', 'cat']\n",
        "for caminho_imagem in caminhos:\n",
        "  try:\n",
        "    imagem = cv2.imread(caminho_imagem)\n",
        "    (H, W) = imagem.shape[:2]\n",
        "  except:\n",
        "    print('Erro ao carregar a imagem -> ' + caminho_imagem)\n",
        "    continue\n",
        "\n",
        "  imagem_cp = imagem.copy()\n",
        "  net, imagem, layer_outputs = blob_imagem(net, imagem)\n",
        "\n",
        "  caixas = []\n",
        "  confiancas = []\n",
        "  IDclasses = []\n",
        "\n",
        "  for output in layer_outputs:\n",
        "    for detection in output:\n",
        "      caixas, confiancas, IDclasses = deteccoes(detection, _threshold, caixas, confiancas, IDclasses)\n",
        "\n",
        "  objs = cv2.dnn.NMSBoxes(caixas, confiancas, _threshold, _threshold_NMS)\n",
        "\n",
        "  if len(objs) > 0:\n",
        "    for i in objs.flatten():\n",
        "      if LABELS[IDclasses[i]] in classes:\n",
        "        imagem, x, y, w, h = funcoes_imagem(imagem, i, confiancas, caixas, COLORS, LABELS, mostrar_texto=False)\n",
        "        objeto = imagem_cp[y:y + h, x:x + w]\n",
        "\n",
        "  mostrar(imagem)"
      ],
      "execution_count": null,
      "outputs": []
    },
    {
      "cell_type": "markdown",
      "metadata": {
        "id": "KIjy0Z_LnqDc"
      },
      "source": [
        "# Modo mais legível"
      ]
    },
    {
      "cell_type": "code",
      "metadata": {
        "id": "d-WfcbgnnqDd"
      },
      "source": [
        "def funcoes_imagem_v2(imagem, i, confiancas, caixas, COLORS, LABELS, mostrar_texto=True):\n",
        "  (x, y) = (caixas[i][0], caixas[i][1]) # coordenada (x,y) onde inicia a caixa da detecção\n",
        "  (w, h) = (caixas[i][2], caixas[i][3]) # largura e altura em pixels da caixa de detecção\n",
        "\n",
        "  cor = [int(c) for c in COLORS[IDclasses[i]]]\n",
        "\n",
        "  fundo = np.full((imagem.shape), (0,0,0), dtype=np.uint8)\n",
        "\n",
        "  texto = \"{}: {:.4f}\".format(LABELS[IDclasses[i]], confiancas[i])\n",
        "\n",
        "  cv2.putText(fundo, texto, (x, y - 5), cv2.FONT_HERSHEY_SIMPLEX, 0.5, (255,255,255), 2)\n",
        "\n",
        "  fx,fy,fw,fh = cv2.boundingRect(fundo[:,:,2])\n",
        "\n",
        "  cv2.rectangle(imagem, (x, y), (x + w, y + h), cor, 2)\n",
        "\n",
        "  cv2.rectangle(imagem, (fx, fy), (fx + fw, fy + fh), cor, -1)\n",
        "  cv2.rectangle(imagem, (fx, fy), (fx + fw, fy + fh), cor, 3)\n",
        "  cv2.putText(imagem, texto, (x, y - 5), cv2.FONT_HERSHEY_SIMPLEX, 0.5, (0,0,0), 1)\n",
        "\n",
        "  if mostrar_texto:\n",
        "    print(\"> \" + texto)\n",
        "    print(x,y,w,h)\n",
        "\n",
        "  return imagem,x,y,w,h"
      ],
      "execution_count": null,
      "outputs": []
    },
    {
      "cell_type": "code",
      "metadata": {
        "id": "43I-pwwhnqDg"
      },
      "source": [
        "diretorio_fotos = \"fotos_teste/\"\n",
        "caminhos = [os.path.join(diretorio_fotos, f) for f in os.listdir(diretorio_fotos)]\n",
        "print(caminhos)\n",
        "threshold = 0.5\n",
        "threshold_NMS = 0.3"
      ],
      "execution_count": null,
      "outputs": []
    },
    {
      "cell_type": "code",
      "metadata": {
        "id": "_yYRe0VuASX_"
      },
      "source": [
        "for caminho_imagem in caminhos:\n",
        "  try:\n",
        "    imagem = cv2.imread(caminho_imagem)\n",
        "    (H, W) = imagem.shape[:2]\n",
        "  except:\n",
        "    print('Erro ao carregar a imagem -> ' + caminho_imagem)\n",
        "    continue\n",
        "\n",
        "  imagem_cp = imagem.copy()\n",
        "  net, imagem, layer_outputs = blob_imagem(net, imagem)\n",
        "\n",
        "  caixas = []\n",
        "  confiancas = []\n",
        "  IDclasses = []\n",
        "\n",
        "  for output in layer_outputs:\n",
        "    for detection in output:\n",
        "      caixas, confiancas, IDclasses = deteccoes(detection, _threshold, caixas, confiancas, IDclasses)\n",
        "\n",
        "  objs = cv2.dnn.NMSBoxes(caixas, confiancas, _threshold, _threshold_NMS)\n",
        "\n",
        "  if len(objs) > 0:\n",
        "    for i in objs.flatten():\n",
        "      imagem, x, y, w, h = funcoes_imagem_v2(imagem, i, confiancas, caixas, COLORS, LABELS, mostrar_texto=False)\n",
        "      objeto = imagem_cp[y:y + h, x:x + w]\n",
        "\n",
        "  mostrar(imagem)"
      ],
      "execution_count": null,
      "outputs": []
    }
  ]
}