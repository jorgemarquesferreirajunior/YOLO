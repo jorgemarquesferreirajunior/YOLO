{
  "cells": [
    {
      "cell_type": "markdown",
      "metadata": {
        "id": "view-in-github",
        "colab_type": "text"
      },
      "source": [
        "<a href=\"https://colab.research.google.com/github/jorgemarquesferreirajunior/YOLO/blob/main/Treinamento.ipynb\" target=\"_parent\"><img src=\"https://colab.research.google.com/assets/colab-badge.svg\" alt=\"Open In Colab\"/></a>"
      ]
    },
    {
      "cell_type": "markdown",
      "metadata": {
        "id": "1i_fUfxM-ciY"
      },
      "source": [
        "#Preparação do Dataset\n",
        "A estrutura necessária é a seguinte\n",
        "* /dataset\n",
        "    * /train\n",
        "    * /val\n"
      ]
    },
    {
      "cell_type": "markdown",
      "metadata": {
        "id": "AhDAol6piZ7K"
      },
      "source": [
        "##01- Ativar GPU e Acessar Google Drive"
      ]
    },
    {
      "cell_type": "code",
      "execution_count": null,
      "metadata": {
        "id": "q-_5zDF7iVRx"
      },
      "outputs": [],
      "source": [
        "import tensorflow as tf\n",
        "GPU = tf.test.gpu_device_name()\n",
        "print(GPU)\n",
        "\n",
        "# Saida esperada: /device:GPU:0"
      ]
    },
    {
      "cell_type": "code",
      "execution_count": null,
      "metadata": {
        "id": "0Xj8_Qa7ix8a"
      },
      "outputs": [],
      "source": [
        "from google.colab import drive\n",
        "drive.mount('/content/gdrive')\n",
        "\n",
        "# Saida esperada: Mounted at, /content/gdrive"
      ]
    },
    {
      "cell_type": "markdown",
      "metadata": {
        "id": "-u8ahKvJXjf-"
      },
      "source": [
        "##02- Baixar ferramentas"
      ]
    },
    {
      "cell_type": "code",
      "execution_count": null,
      "metadata": {
        "id": "O7GjITVAXpP5"
      },
      "outputs": [],
      "source": [
        "!git clone https://github.com/EscVM/OIDv4_ToolKit.git"
      ]
    },
    {
      "cell_type": "code",
      "execution_count": null,
      "metadata": {
        "id": "WMATpYjaXx1J"
      },
      "outputs": [],
      "source": [
        "cd /content/OIDv4_ToolKit"
      ]
    },
    {
      "cell_type": "code",
      "execution_count": null,
      "metadata": {
        "id": "CDR1cu3sXyA4"
      },
      "outputs": [],
      "source": [
        "!pip3 install -r /content/OIDv4_ToolKit/requirements.txt"
      ]
    },
    {
      "cell_type": "code",
      "execution_count": null,
      "metadata": {
        "id": "_pEduwl-fHTW"
      },
      "outputs": [],
      "source": [
        "cd /content/"
      ]
    },
    {
      "cell_type": "code",
      "execution_count": null,
      "metadata": {
        "id": "EDtGbA--gHbi"
      },
      "outputs": [],
      "source": [
        "!git clone https://github.com/jorgemarquesferreirajunior/converter_annotations_yolo.git"
      ]
    },
    {
      "cell_type": "code",
      "execution_count": null,
      "metadata": {
        "id": "XTDk_4Ol8fdZ"
      },
      "outputs": [],
      "source": [
        "!git clone https://github.com/AlexeyAB/darknet"
      ]
    },
    {
      "cell_type": "code",
      "execution_count": null,
      "metadata": {
        "id": "vFdM3wODfXqT"
      },
      "outputs": [],
      "source": [
        "!cp /content/converter_annotations_yolo/converter_annotations.py /content/OIDv4_ToolKit"
      ]
    },
    {
      "cell_type": "markdown",
      "metadata": {
        "id": "WVxUr-CT7S0n"
      },
      "source": [
        "##03- Descompactar dataset do drive para a pasta OIDv4_ToolKit"
      ]
    },
    {
      "cell_type": "code",
      "execution_count": null,
      "metadata": {
        "id": "C41q7Wnl7Y_1"
      },
      "outputs": [],
      "source": [
        "!unzip /content/gdrive/MyDrive/ColabNotebooks/PigDetector/dataset.zip -d ./"
      ]
    },
    {
      "cell_type": "code",
      "execution_count": null,
      "metadata": {
        "id": "TYCX-M428CiI"
      },
      "outputs": [],
      "source": [
        "!mv /content/content/OID /content/OIDv4_ToolKit/"
      ]
    },
    {
      "cell_type": "code",
      "execution_count": null,
      "metadata": {
        "id": "bQMhmgwP8SEh"
      },
      "outputs": [],
      "source": [
        "!rm -rf /content/content"
      ]
    },
    {
      "cell_type": "markdown",
      "metadata": {
        "id": "HhpKbmZhx0db"
      },
      "source": [
        "##04- Configurar arquivo de classes da pasta OIDv4_ToolKit e executar o script para converter as anotações"
      ]
    },
    {
      "cell_type": "code",
      "execution_count": null,
      "metadata": {
        "id": "sZ7QR9076k4l"
      },
      "outputs": [],
      "source": [
        "cd /content/OIDv4_ToolKit/"
      ]
    },
    {
      "cell_type": "code",
      "execution_count": null,
      "metadata": {
        "id": "qBjyTREhpVQ-"
      },
      "outputs": [],
      "source": [
        "!cat classes.txt"
      ]
    },
    {
      "cell_type": "code",
      "execution_count": null,
      "metadata": {
        "id": "yS9fg8VEpbnd"
      },
      "outputs": [],
      "source": [
        "# Adicionar os nomes das classes desejadas\n",
        "!echo -e 'Pig' > classes.txt"
      ]
    },
    {
      "cell_type": "code",
      "execution_count": null,
      "metadata": {
        "id": "CvkkVIWnx42y"
      },
      "outputs": [],
      "source": [
        "!python converter_annotations.py"
      ]
    },
    {
      "cell_type": "markdown",
      "metadata": {
        "id": "IhTbrxRRyKQ1"
      },
      "source": [
        "##05- Renomear as pastas que contem as imagens de teste e de treino"
      ]
    },
    {
      "cell_type": "code",
      "execution_count": null,
      "metadata": {
        "id": "2YtWJobpyRaH"
      },
      "outputs": [],
      "source": [
        "!mv /content/OIDv4_ToolKit/OID/Dataset/test/Pig /content/OIDv4_ToolKit/OID/Dataset/test/valid/\n",
        "!mv /content/OIDv4_ToolKit/OID/Dataset/train/Pig /content/OIDv4_ToolKit/OID/Dataset/train/obj"
      ]
    },
    {
      "cell_type": "markdown",
      "metadata": {
        "id": "Ow9AHwhw8AoW"
      },
      "source": [
        "##06- Copiar o arquivo yolov4.cfg para o drive , editar o arquivo copiado e salvar na pasta darknet/cfg:"
      ]
    },
    {
      "cell_type": "code",
      "execution_count": null,
      "metadata": {
        "id": "aRWg00kg8T-x"
      },
      "outputs": [],
      "source": [
        "!cp /content/darknet/cfg/yolov4.cfg /content/darknet/cfg/yolov4_custom.cfg"
      ]
    },
    {
      "cell_type": "code",
      "execution_count": null,
      "metadata": {
        "id": "JtSSrdQW8f4P"
      },
      "outputs": [],
      "source": [
        "cd /content/converter_annotations_yolo"
      ]
    },
    {
      "cell_type": "code",
      "execution_count": null,
      "metadata": {
        "id": "CKUqzNeg56E4"
      },
      "outputs": [],
      "source": [
        "!python -c \"from utils import configcfg; configcfg('/content/darknet/cfg/yolov4_custom.cfg', 64, 1)\""
      ]
    },
    {
      "cell_type": "code",
      "execution_count": null,
      "metadata": {
        "id": "YWklKB1n8S_i"
      },
      "outputs": [],
      "source": [
        "!cp /content/darknet/cfg/yolov4_custom.cfg /content/gdrive/MyDrive/ColabNotebooks/PigDetector/yolov4_custom.cfg"
      ]
    },
    {
      "cell_type": "markdown",
      "metadata": {
        "id": "n6rRNrBw9jks"
      },
      "source": [
        "##07- Configurar outros arquivos para a darknet, salvar no drive e copiar para a darknet/data"
      ]
    },
    {
      "cell_type": "code",
      "execution_count": null,
      "metadata": {
        "id": "UNG_pAF29mmm"
      },
      "outputs": [],
      "source": [
        "cd /content/gdrive/MyDrive/ColabNotebooks/PigDetector/"
      ]
    },
    {
      "cell_type": "code",
      "execution_count": null,
      "metadata": {
        "id": "62Sn7_ir9oSI"
      },
      "outputs": [],
      "source": [
        "!touch obj.names\n",
        "!touch obj.data"
      ]
    },
    {
      "cell_type": "code",
      "execution_count": null,
      "metadata": {
        "id": "7JNpCKsr92eQ"
      },
      "outputs": [],
      "source": [
        "!cat obj.names"
      ]
    },
    {
      "cell_type": "code",
      "execution_count": null,
      "metadata": {
        "id": "rSf86fO_97oo"
      },
      "outputs": [],
      "source": [
        "!echo -e 'Pig' > obj.names"
      ]
    },
    {
      "cell_type": "code",
      "execution_count": null,
      "metadata": {
        "id": "BkUMplMY6j09"
      },
      "outputs": [],
      "source": [
        "!cat obj.names"
      ]
    },
    {
      "cell_type": "code",
      "execution_count": null,
      "metadata": {
        "id": "F2Ja3HPH-MR-"
      },
      "outputs": [],
      "source": [
        "!cat obj.data"
      ]
    },
    {
      "cell_type": "code",
      "execution_count": null,
      "metadata": {
        "id": "zvFctJMH-Q_b"
      },
      "outputs": [],
      "source": [
        "!echo -e 'classes = 1\\ntrain = /content/darknet/data/train.txt\\nvalid = /content/darknet/data/test.txt\\nnames = /content/darknet/data/obj.names\\nbackup = /content/gdrive/MyDrive/ColabNotebooks/PigDetector/' > obj.data"
      ]
    },
    {
      "cell_type": "code",
      "execution_count": null,
      "metadata": {
        "id": "r0D40gW26led"
      },
      "outputs": [],
      "source": [
        "!cat obj.data"
      ]
    },
    {
      "cell_type": "code",
      "execution_count": null,
      "metadata": {
        "id": "nMN3d42c-nk_"
      },
      "outputs": [],
      "source": [
        "!cp /content/gdrive/MyDrive/ColabNotebooks/PigDetector/obj.names /content/darknet/data\n",
        "!cp /content/gdrive/MyDrive/ColabNotebooks/PigDetector/obj.data /content/darknet/data"
      ]
    },
    {
      "cell_type": "markdown",
      "metadata": {
        "id": "YdkXHzk8Auy4"
      },
      "source": [
        "##08- Copiar as imagens para a pasta darknet/data e gerar arquivos txt com os caminhos de todas as imagens"
      ]
    },
    {
      "cell_type": "code",
      "execution_count": null,
      "metadata": {
        "id": "bVOFSs57AzW4"
      },
      "outputs": [],
      "source": [
        "!cp -r /content/OIDv4_ToolKit/OID/Dataset/test/valid /content/darknet/data\n",
        "!cp -r /content/OIDv4_ToolKit/OID/Dataset/train/obj /content/darknet/data"
      ]
    },
    {
      "cell_type": "code",
      "execution_count": null,
      "metadata": {
        "id": "dUiOuX5YChVS"
      },
      "outputs": [],
      "source": [
        "!rm /content/darknet/data/obj/Label/*\n",
        "!rm /content/darknet/data/valid/Label/*"
      ]
    },
    {
      "cell_type": "code",
      "execution_count": null,
      "metadata": {
        "id": "bOM9TmyCDAro"
      },
      "outputs": [],
      "source": [
        "!cp /content/converter_annotations_yolo/gerar_test.py /content/darknet/\n",
        "!cp /content/converter_annotations_yolo/gerar_train.py /content/darknet/"
      ]
    },
    {
      "cell_type": "code",
      "execution_count": null,
      "metadata": {
        "id": "1G_gnwpNDSz9"
      },
      "outputs": [],
      "source": [
        "cd /content/darknet/"
      ]
    },
    {
      "cell_type": "code",
      "execution_count": null,
      "metadata": {
        "id": "3XKwjc1GDWUp"
      },
      "outputs": [],
      "source": [
        "!python gerar_test.py"
      ]
    },
    {
      "cell_type": "code",
      "execution_count": null,
      "metadata": {
        "id": "NXVOBfm9D2zU"
      },
      "outputs": [],
      "source": [
        "!python gerar_train.py"
      ]
    },
    {
      "cell_type": "markdown",
      "metadata": {
        "id": "mMRHNhTLFsmA"
      },
      "source": [
        "##09- Compilar a darknet"
      ]
    },
    {
      "cell_type": "code",
      "execution_count": null,
      "metadata": {
        "id": "0BiMEuMDFwHZ"
      },
      "outputs": [],
      "source": [
        "cd /content/darknet"
      ]
    },
    {
      "cell_type": "code",
      "execution_count": null,
      "metadata": {
        "id": "v5wT9EaLF03z"
      },
      "outputs": [],
      "source": [
        "!sed -i 's/OPENCV=0/OPENCV=1/' Makefile\n",
        "!sed -i 's/GPU=0/GPU=1/' Makefile\n",
        "!sed -i 's/CUDNN=0/CUDNN=1/' Makefile"
      ]
    },
    {
      "cell_type": "code",
      "execution_count": null,
      "metadata": {
        "id": "lpuBsOFKF3eK"
      },
      "outputs": [],
      "source": [
        "!make"
      ]
    },
    {
      "cell_type": "markdown",
      "metadata": {
        "id": "P3JgTs2vF84U"
      },
      "source": [
        "##10- Baixar pesos pré-treinados (transfer learning)"
      ]
    },
    {
      "cell_type": "code",
      "execution_count": null,
      "metadata": {
        "id": "wqxLjSuaGCjL"
      },
      "outputs": [],
      "source": [
        "!wget https://github.com/AlexeyAB/darknet/releases/download/darknet_yolo_v3_optimal/yolov4.weights"
      ]
    },
    {
      "cell_type": "code",
      "execution_count": null,
      "metadata": {
        "id": "3tVCyBXvG_Oi"
      },
      "outputs": [],
      "source": [
        "!wget https://github.com/AlexeyAB/darknet/releases/download/darknet_yolo_v3_optimal/yolov4.conv.137"
      ]
    },
    {
      "cell_type": "code",
      "execution_count": null,
      "metadata": {
        "id": "3DgJGlsSE3tU"
      },
      "outputs": [],
      "source": [
        "ls"
      ]
    },
    {
      "cell_type": "markdown",
      "metadata": {
        "id": "J6NAR3swGFha"
      },
      "source": [
        "##11- Testar o funcionamento da darknet"
      ]
    },
    {
      "cell_type": "code",
      "execution_count": null,
      "metadata": {
        "id": "F1ahefkYGIS8"
      },
      "outputs": [],
      "source": [
        "!./darknet detect /content/darknet/cfg/yolov4.cfg /content/darknet/yolov4.weights /content/darknet/data/person.jpg"
      ]
    },
    {
      "cell_type": "code",
      "execution_count": null,
      "metadata": {
        "id": "fghGZv95GJIx"
      },
      "outputs": [],
      "source": [
        "import cv2\n",
        "import matplotlib.pyplot as plt\n",
        "\n",
        "def show(path):\n",
        "    img = cv2.imread(path)\n",
        "    fig = plt.gcf()\n",
        "    fig.set_size_inches(18, 10)\n",
        "    plt.axis(\"off\")\n",
        "    plt.imshow(cv2.cvtColor(img, cv2.COLOR_BGR2RGB))\n",
        "    plt.show()\n",
        "\n"
      ]
    },
    {
      "cell_type": "code",
      "execution_count": null,
      "metadata": {
        "id": "J1WVERWeGMJd"
      },
      "outputs": [],
      "source": [
        "show('/content/darknet/predictions.jpg')"
      ]
    },
    {
      "cell_type": "markdown",
      "metadata": {
        "id": "j4ozMjZxGjCO"
      },
      "source": [
        "##12- Mão na massa: Inicio do treinamento - OBS: Quiantidade mínima de epocas = 2000 * numero de classes"
      ]
    },
    {
      "cell_type": "code",
      "execution_count": null,
      "metadata": {
        "id": "Ly7k1KNTFFCl"
      },
      "outputs": [],
      "source": [
        "!./darknet detector train /content/darknet/data/obj.data /content/darknet/cfg/yolov4_custom.cfg /content/gdrive/MyDrive/ColabNotebooks/PigDetector/yolov4_custom_last.weights -dont_show -map -clear"
      ]
    }
  ],
  "metadata": {
    "accelerator": "GPU",
    "colab": {
      "collapsed_sections": [
        "AhDAol6piZ7K",
        "-u8ahKvJXjf-",
        "IhTbrxRRyKQ1",
        "Ow9AHwhw8AoW"
      ],
      "provenance": [],
      "authorship_tag": "ABX9TyPiJ6jX8J4YAkpMiiTBKwiT",
      "include_colab_link": true
    },
    "kernelspec": {
      "display_name": "Python 3",
      "name": "python3"
    },
    "language_info": {
      "name": "python"
    }
  },
  "nbformat": 4,
  "nbformat_minor": 0
}