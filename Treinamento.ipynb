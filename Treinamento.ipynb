{
  "nbformat": 4,
  "nbformat_minor": 0,
  "metadata": {
    "colab": {
      "provenance": [],
      "gpuType": "T4",
      "authorship_tag": "ABX9TyMHPfCZ8nAWwTjHOfzfv2wM",
      "include_colab_link": true
    },
    "kernelspec": {
      "name": "python3",
      "display_name": "Python 3"
    },
    "language_info": {
      "name": "python"
    },
    "accelerator": "GPU"
  },
  "cells": [
    {
      "cell_type": "markdown",
      "metadata": {
        "id": "view-in-github",
        "colab_type": "text"
      },
      "source": [
        "<a href=\"https://colab.research.google.com/github/jorgemarquesferreirajunior/YOLO/blob/main/Treinamento.ipynb\" target=\"_parent\"><img src=\"https://colab.research.google.com/assets/colab-badge.svg\" alt=\"Open In Colab\"/></a>"
      ]
    },
    {
      "cell_type": "markdown",
      "source": [
        "#Training Model"
      ],
      "metadata": {
        "id": "SBu3V8LafTsb"
      }
    },
    {
      "cell_type": "markdown",
      "metadata": {
        "id": "AhDAol6piZ7K"
      },
      "source": [
        "##01- Ativar GPU e Acessar Google Drive"
      ]
    },
    {
      "cell_type": "code",
      "execution_count": null,
      "metadata": {
        "id": "q-_5zDF7iVRx"
      },
      "outputs": [],
      "source": [
        "import tensorflow as tf\n",
        "GPU = tf.test.gpu_device_name()\n",
        "print(GPU)\n",
        "\n",
        "# Saida esperada: /device:GPU:0"
      ]
    },
    {
      "cell_type": "code",
      "execution_count": null,
      "metadata": {
        "id": "0Xj8_Qa7ix8a"
      },
      "outputs": [],
      "source": [
        "from google.colab import drive\n",
        "drive.mount('/content/gdrive')\n",
        "\n",
        "# Saida esperada: Mounted at, /content/gdrive"
      ]
    },
    {
      "cell_type": "markdown",
      "metadata": {
        "id": "-u8ahKvJXjf-"
      },
      "source": [
        "##02- Baixar ferramentas"
      ]
    },
    {
      "cell_type": "code",
      "execution_count": null,
      "metadata": {
        "id": "O7GjITVAXpP5"
      },
      "outputs": [],
      "source": [
        "!git clone https://github.com/EscVM/OIDv4_ToolKit.git"
      ]
    },
    {
      "cell_type": "code",
      "execution_count": null,
      "metadata": {
        "id": "WMATpYjaXx1J"
      },
      "outputs": [],
      "source": [
        "cd /content/OIDv4_ToolKit"
      ]
    },
    {
      "cell_type": "code",
      "execution_count": null,
      "metadata": {
        "id": "CDR1cu3sXyA4"
      },
      "outputs": [],
      "source": [
        "!pip3 install -r /content/OIDv4_ToolKit/requirements.txt"
      ]
    },
    {
      "cell_type": "code",
      "execution_count": null,
      "metadata": {
        "id": "_pEduwl-fHTW"
      },
      "outputs": [],
      "source": [
        "cd /content/"
      ]
    },
    {
      "cell_type": "code",
      "execution_count": null,
      "metadata": {
        "id": "EDtGbA--gHbi"
      },
      "outputs": [],
      "source": [
        "!git clone https://github.com/jorgemarquesferreirajunior/converter_annotations_yolo.git"
      ]
    },
    {
      "cell_type": "code",
      "source": [
        "!git clone https://github.com/AlexeyAB/darknet"
      ],
      "metadata": {
        "id": "XTDk_4Ol8fdZ"
      },
      "execution_count": null,
      "outputs": []
    },
    {
      "cell_type": "code",
      "execution_count": null,
      "metadata": {
        "id": "vFdM3wODfXqT"
      },
      "outputs": [],
      "source": [
        "!cp /content/converter_annotations_yolo/converter_annotations.py /content/OIDv4_ToolKit"
      ]
    },
    {
      "cell_type": "markdown",
      "source": [
        "##03- Descompactar dataset do drive para a pasta OIDv4_ToolKit"
      ],
      "metadata": {
        "id": "WVxUr-CT7S0n"
      }
    },
    {
      "cell_type": "code",
      "source": [
        "!unzip /content/gdrive/MyDrive/ColabNotebooks/CatDetector/dataset.zip -d /content/OIDv4_ToolKit/"
      ],
      "metadata": {
        "id": "C41q7Wnl7Y_1"
      },
      "execution_count": null,
      "outputs": []
    },
    {
      "cell_type": "code",
      "source": [
        "!mv  /content/OIDv4_ToolKit/content/OIDv4_ToolKit/OID /content/OIDv4_ToolKit/OID"
      ],
      "metadata": {
        "id": "TYCX-M428CiI"
      },
      "execution_count": null,
      "outputs": []
    },
    {
      "cell_type": "code",
      "source": [
        "!rm -rf /content/OIDv4_ToolKit/content"
      ],
      "metadata": {
        "id": "bQMhmgwP8SEh"
      },
      "execution_count": null,
      "outputs": []
    },
    {
      "cell_type": "markdown",
      "source": [
        "##04- Configurar arquivo de classes da pasta OIDv4_ToolKit e executar o script para converter as anotações"
      ],
      "metadata": {
        "id": "HhpKbmZhx0db"
      }
    },
    {
      "cell_type": "code",
      "source": [
        "cd /content/OIDv4_ToolKit/"
      ],
      "metadata": {
        "id": "sZ7QR9076k4l"
      },
      "execution_count": null,
      "outputs": []
    },
    {
      "cell_type": "code",
      "source": [
        "!cat classes.txt"
      ],
      "metadata": {
        "id": "qBjyTREhpVQ-"
      },
      "execution_count": null,
      "outputs": []
    },
    {
      "cell_type": "code",
      "source": [
        "!echo -e 'Cat' > classes.txt # Adicionar os nomes das classes desejadas"
      ],
      "metadata": {
        "id": "yS9fg8VEpbnd"
      },
      "execution_count": null,
      "outputs": []
    },
    {
      "cell_type": "code",
      "source": [
        "!python converter_annotations.py"
      ],
      "metadata": {
        "id": "CvkkVIWnx42y"
      },
      "execution_count": null,
      "outputs": []
    },
    {
      "cell_type": "markdown",
      "source": [
        "##05- Renomear as pastas que contem as imagens de teste e de treino"
      ],
      "metadata": {
        "id": "IhTbrxRRyKQ1"
      }
    },
    {
      "cell_type": "code",
      "source": [
        "# eh necessario renomear as pastas para que a compilacao da darknet funcione adequadamente\n",
        "!mv /content/OIDv4_ToolKit/OID/Dataset/test/Cat /content/OIDv4_ToolKit/OID/Dataset/test/valid/\n",
        "!mv /content/OIDv4_ToolKit/OID/Dataset/train/Cat /content/OIDv4_ToolKit/OID/Dataset/train/obj"
      ],
      "metadata": {
        "id": "2YtWJobpyRaH"
      },
      "execution_count": null,
      "outputs": []
    },
    {
      "cell_type": "markdown",
      "source": [
        "##06- Copiar o arquivo yolov4.cfg para o drive , editar o arquivo copiado e salvar na pasta darknet/cfg:"
      ],
      "metadata": {
        "id": "Ow9AHwhw8AoW"
      }
    },
    {
      "cell_type": "code",
      "source": [
        "!cp /content/darknet/cfg/yolov4.cfg /content/darknet/cfg/yolov4_custom.cfg"
      ],
      "metadata": {
        "id": "aRWg00kg8T-x"
      },
      "execution_count": null,
      "outputs": []
    },
    {
      "cell_type": "code",
      "source": [
        "cd /content/converter_annotations_yolo"
      ],
      "metadata": {
        "id": "JtSSrdQW8f4P"
      },
      "execution_count": null,
      "outputs": []
    },
    {
      "cell_type": "code",
      "source": [
        "!python -c \"from utils import configcfg; configcfg('/content/darknet/cfg/yolov4_custom.cfg', 64, 1)\""
      ],
      "metadata": {
        "id": "CKUqzNeg56E4"
      },
      "execution_count": null,
      "outputs": []
    },
    {
      "cell_type": "code",
      "source": [
        "!cp /content/darknet/cfg/yolov4_custom.cfg /content/gdrive/MyDrive/ColabNotebooks/CatDetector/yolov4_custom.cfg"
      ],
      "metadata": {
        "id": "YWklKB1n8S_i"
      },
      "execution_count": null,
      "outputs": []
    },
    {
      "cell_type": "code",
      "source": [
        "!cp /content/gdrive/MyDrive/ColabNotebooks/CatDetector/yolov4_custom.cfg /content/darknet/cfg"
      ],
      "metadata": {
        "id": "Bkb4tpP__8h-"
      },
      "execution_count": null,
      "outputs": []
    },
    {
      "cell_type": "code",
      "source": [
        "!cp /content/darknet/cfg/yolov4.cfg /content/darknet/cfg/yolov4_custom.cfg"
      ],
      "metadata": {
        "id": "qqDkDxDk1VVB"
      },
      "execution_count": null,
      "outputs": []
    },
    {
      "cell_type": "markdown",
      "source": [
        "##07- Configurar outros arquivos para a darknet, salvar no drive e copiar para a darknet/data"
      ],
      "metadata": {
        "id": "n6rRNrBw9jks"
      }
    },
    {
      "cell_type": "code",
      "source": [
        "cd /content/gdrive/MyDrive/ColabNotebooks/CatDetector/"
      ],
      "metadata": {
        "id": "UNG_pAF29mmm"
      },
      "execution_count": null,
      "outputs": []
    },
    {
      "cell_type": "code",
      "source": [
        "!touch obj.names\n",
        "!touch obj.data"
      ],
      "metadata": {
        "id": "62Sn7_ir9oSI"
      },
      "execution_count": null,
      "outputs": []
    },
    {
      "cell_type": "code",
      "source": [
        "!echo -e 'Cat' > obj.names"
      ],
      "metadata": {
        "id": "rSf86fO_97oo"
      },
      "execution_count": null,
      "outputs": []
    },
    {
      "cell_type": "code",
      "source": [
        "!cat obj.names"
      ],
      "metadata": {
        "id": "7JNpCKsr92eQ"
      },
      "execution_count": null,
      "outputs": []
    },
    {
      "cell_type": "code",
      "source": [
        "#Se preferir, pode fazer manualmente essas alteracoes no arquivo\n",
        "!echo -e 'classes = 1\\ntrain = /content/darknet/data/train.txt\\nvalid = /content/darknet/data/test.txt\\nnames = /content/darknet/data/obj.names\\nbackup = /content/gdrive/MyDrive/ColabNotebooks/CatDetector/backupWeights/' > obj.data"
      ],
      "metadata": {
        "id": "zvFctJMH-Q_b"
      },
      "execution_count": null,
      "outputs": []
    },
    {
      "cell_type": "code",
      "source": [
        "!cat obj.data"
      ],
      "metadata": {
        "id": "F2Ja3HPH-MR-"
      },
      "execution_count": null,
      "outputs": []
    },
    {
      "cell_type": "code",
      "source": [
        "!cp /content/darknet/data/obj.names /content/gdrive/MyDrive/ColabNotebooks/CatDetector/obj.names\n",
        "!cp /content/darknet/data/obj.data /content/gdrive/MyDrive/ColabNotebooks/CatDetector/obj.data"
      ],
      "metadata": {
        "id": "n0cmMXLrT9NT"
      },
      "execution_count": null,
      "outputs": []
    },
    {
      "cell_type": "markdown",
      "source": [
        "##08- Copiar as imagens para a pasta darknet/data e gerar arquivos txt com os caminhos de todas as imagens"
      ],
      "metadata": {
        "id": "YdkXHzk8Auy4"
      }
    },
    {
      "cell_type": "code",
      "source": [
        "!cp -r /content/OIDv4_ToolKit/OID/Dataset/test/valid /content/darknet/data\n",
        "!cp -r /content/OIDv4_ToolKit/OID/Dataset/train/obj /content/darknet/data"
      ],
      "metadata": {
        "id": "bVOFSs57AzW4"
      },
      "execution_count": null,
      "outputs": []
    },
    {
      "cell_type": "code",
      "source": [
        "!rm /content/darknet/data/obj/Label/*\n",
        "!rm /content/darknet/data/valid/Label/*"
      ],
      "metadata": {
        "id": "dUiOuX5YChVS"
      },
      "execution_count": null,
      "outputs": []
    },
    {
      "cell_type": "code",
      "source": [
        "!cp /content/converter_annotations_yolo/gerar_test.py /content/darknet/\n",
        "!cp /content/converter_annotations_yolo/gerar_train.py /content/darknet/"
      ],
      "metadata": {
        "id": "bOM9TmyCDAro"
      },
      "execution_count": null,
      "outputs": []
    },
    {
      "cell_type": "code",
      "source": [
        "cd /content/darknet/"
      ],
      "metadata": {
        "id": "1G_gnwpNDSz9"
      },
      "execution_count": null,
      "outputs": []
    },
    {
      "cell_type": "code",
      "source": [
        "!python gerar_test.py"
      ],
      "metadata": {
        "id": "3XKwjc1GDWUp"
      },
      "execution_count": null,
      "outputs": []
    },
    {
      "cell_type": "code",
      "source": [
        "!python gerar_train.py"
      ],
      "metadata": {
        "id": "NXVOBfm9D2zU"
      },
      "execution_count": null,
      "outputs": []
    },
    {
      "cell_type": "markdown",
      "source": [
        "##09- Compilar a darknet"
      ],
      "metadata": {
        "id": "mMRHNhTLFsmA"
      }
    },
    {
      "cell_type": "code",
      "source": [
        "cd /content/darknet"
      ],
      "metadata": {
        "id": "0BiMEuMDFwHZ"
      },
      "execution_count": null,
      "outputs": []
    },
    {
      "cell_type": "code",
      "source": [
        "!sed -i 's/OPENCV=0/OPENCV=1/' Makefile\n",
        "!sed -i 's/GPU=0/GPU=1/' Makefile\n",
        "!sed -i 's/CUDNN=0/CUDNN=1/' Makefile"
      ],
      "metadata": {
        "id": "v5wT9EaLF03z"
      },
      "execution_count": null,
      "outputs": []
    },
    {
      "cell_type": "code",
      "source": [
        "!make"
      ],
      "metadata": {
        "id": "lpuBsOFKF3eK"
      },
      "execution_count": null,
      "outputs": []
    },
    {
      "cell_type": "markdown",
      "source": [
        "##10- Baixar pesos pré-treinados (transfer learning)"
      ],
      "metadata": {
        "id": "P3JgTs2vF84U"
      }
    },
    {
      "cell_type": "code",
      "source": [
        "!wget https://github.com/AlexeyAB/darknet/releases/download/darknet_yolo_v3_optimal/yolov4.weights"
      ],
      "metadata": {
        "id": "wqxLjSuaGCjL"
      },
      "execution_count": null,
      "outputs": []
    },
    {
      "cell_type": "code",
      "source": [
        "!wget https://github.com/AlexeyAB/darknet/releases/download/darknet_yolo_v3_optimal/yolov4.conv.137"
      ],
      "metadata": {
        "id": "3tVCyBXvG_Oi"
      },
      "execution_count": null,
      "outputs": []
    },
    {
      "cell_type": "code",
      "source": [
        "ls"
      ],
      "metadata": {
        "id": "3DgJGlsSE3tU"
      },
      "execution_count": null,
      "outputs": []
    },
    {
      "cell_type": "markdown",
      "source": [
        "##11- Testar o funcionamento da darknet"
      ],
      "metadata": {
        "id": "J6NAR3swGFha"
      }
    },
    {
      "cell_type": "code",
      "source": [
        "!./darknet detect cfg/yolov4.cfg yolov4.weights data/person.jpg"
      ],
      "metadata": {
        "id": "F1ahefkYGIS8"
      },
      "execution_count": null,
      "outputs": []
    },
    {
      "cell_type": "code",
      "source": [
        "import cv2\n",
        "import matplotlib.pyplot as plt\n",
        "import os\n",
        "\n",
        "def mostrar(path):\n",
        "    img = cv2.imread(path)\n",
        "    fig = plt.gcf()\n",
        "    fig.set_size_inches(18, 10)\n",
        "    plt.axis(\"off\")\n",
        "    plt.imshow(cv2.cvtColor(img, cv2.COLOR_BGR2RGB))\n",
        "    plt.show()\n",
        "\n",
        "def detectar(imagem):\n",
        "  os.system(f\"cd /content/darknet && ./darknet detector test data/obj.data cfg/yolov4_custom.cfg yolov4_custom_last.weights {imagem}\")\n",
        "  mostrar('predictions.jpg')"
      ],
      "metadata": {
        "id": "fghGZv95GJIx"
      },
      "execution_count": null,
      "outputs": []
    },
    {
      "cell_type": "code",
      "source": [
        "mostrar('/content/darknet/predictions.jpg')"
      ],
      "metadata": {
        "id": "J1WVERWeGMJd"
      },
      "execution_count": null,
      "outputs": []
    },
    {
      "cell_type": "markdown",
      "source": [
        "##12- Mão na massa: Inicio do treinamento - OBS: Quiantidade mínima de epocas = 2000 * numero de classes"
      ],
      "metadata": {
        "id": "j4ozMjZxGjCO"
      }
    },
    {
      "cell_type": "code",
      "source": [
        "!cp /content/gdrive/MyDrive/ColabNotebooks/CatDetector/yolov4_custom_last.weights ./"
      ],
      "metadata": {
        "id": "kqCFbKXoVviy"
      },
      "execution_count": null,
      "outputs": []
    },
    {
      "cell_type": "code",
      "source": [
        "#na primeira vez inicie o treinamento a partir dos pesos pre-treinados baixados do github,\n",
        "# os pesos recalculados sao gerados a cada 100 epocas\n",
        "#se necessario interromper o treinamento antes do termino, voce deve retoma-lo a partir dos\n",
        "# novos pesos calculados ate a ultima epoca antes da interrupcao\n",
        "\n",
        "#iniciano o treinamento\n",
        "!./darknet detector train data/obj.data cfg/yolov4_custom.cfg yolov4.weights yolov4.conv.137 -dont_show -map\n",
        "\n",
        "#continuando a treinamento apos uma pausa\n",
        "#!./darknet detector train data/obj.data cfg/yolov4_custom.cfg yolov4_custom_last.weights -dont_show -map"
      ],
      "metadata": {
        "id": "Ly7k1KNTFFCl"
      },
      "execution_count": null,
      "outputs": []
    },
    {
      "cell_type": "markdown",
      "source": [
        "##13- Verificando o map (Mean Average Precision)"
      ],
      "metadata": {
        "id": "U6si7m1gzhPm"
      }
    },
    {
      "cell_type": "code",
      "source": [
        "# atentar-se para o resultado da variavel ap, quanto mais proximo de 100% melhor\n",
        "!./darknet detector map data/obj.data cfg/yolov4_custom.cfg yolov4_custom_last.weights"
      ],
      "metadata": {
        "id": "OCe4vE1ozo9j"
      },
      "execution_count": null,
      "outputs": []
    },
    {
      "cell_type": "markdown",
      "source": [
        "##11- Testar o funcionamento da darknet"
      ],
      "metadata": {
        "id": "-g4SdlDdee9-"
      }
    },
    {
      "cell_type": "code",
      "source": [
        "!cp /content/gdrive/MyDrive/ColabNotebooks/CatDetector/tito1.jpg ./\n",
        "!cp /content/gdrive/MyDrive/ColabNotebooks/CatDetector/tito2.jpg ./\n",
        "!cp /content/gdrive/MyDrive/ColabNotebooks/CatDetector/tito3.jpg ./\n"
      ],
      "metadata": {
        "id": "EnxBU1RaV8jQ"
      },
      "execution_count": null,
      "outputs": []
    },
    {
      "cell_type": "code",
      "source": [
        "# usa a base de dados coco.names para a identificacao da classe\n",
        "#!./darknet detect cfg/yolov4_custom.cfg yolov4_custom_last.weights tito3.jpg"
      ],
      "metadata": {
        "id": "xQsttrrPee9-"
      },
      "execution_count": null,
      "outputs": []
    },
    {
      "cell_type": "code",
      "source": [
        "# usa a base de dados que voce criou\n",
        "!./darknet detector test data/obj.data cfg/yolov4_custom.cfg yolov4_custom_last.weights tito1.jpg"
      ],
      "metadata": {
        "id": "id3Ng1HGY5SB"
      },
      "execution_count": null,
      "outputs": []
    },
    {
      "cell_type": "code",
      "source": [
        "#funcao que facilita a deteccao\n",
        "detectar(\"/content/darknet/tito1.jpg\")"
      ],
      "metadata": {
        "id": "8biwlrFbZ_UT"
      },
      "execution_count": null,
      "outputs": []
    }
  ]
}