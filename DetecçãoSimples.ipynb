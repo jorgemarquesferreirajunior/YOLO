{
  "nbformat": 4,
  "nbformat_minor": 0,
  "metadata": {
    "colab": {
      "provenance": [],
      "gpuType": "T4",
      "authorship_tag": "ABX9TyPcjWtcIazOzCzO3uxjEu5K",
      "include_colab_link": true
    },
    "kernelspec": {
      "name": "python3",
      "display_name": "Python 3"
    },
    "language_info": {
      "name": "python"
    },
    "accelerator": "GPU"
  },
  "cells": [
    {
      "cell_type": "markdown",
      "metadata": {
        "id": "view-in-github",
        "colab_type": "text"
      },
      "source": [
        "<a href=\"https://colab.research.google.com/github/jorgemarquesferreirajunior/YOLO/blob/main/Detec%C3%A7%C3%A3oSimples.ipynb\" target=\"_parent\"><img src=\"https://colab.research.google.com/assets/colab-badge.svg\" alt=\"Open In Colab\"/></a>"
      ]
    },
    {
      "cell_type": "markdown",
      "source": [
        "#Deteccao-Simples"
      ],
      "metadata": {
        "id": "do_9K7GHosKS"
      }
    },
    {
      "cell_type": "code",
      "execution_count": null,
      "metadata": {
        "id": "ldpVj8UXI_k8"
      },
      "outputs": [],
      "source": [
        "import tensorflow as tf\n",
        "device = tf.test.gpu_device_name()\n",
        "\n",
        "if device:\n",
        "    print(f\"GPU encontrada: {device}\")\n",
        "else:\n",
        "    print(\"Nenhuma GPU disponível.\")\n"
      ]
    },
    {
      "cell_type": "markdown",
      "source": [
        "##Etapa1 - Download da darknet"
      ],
      "metadata": {
        "id": "-P4-fWydJPwN"
      }
    },
    {
      "cell_type": "code",
      "source": [
        "!git clone https://github.com/AlexeyAB/darknet.git"
      ],
      "metadata": {
        "id": "mITaujc1JIrJ"
      },
      "execution_count": null,
      "outputs": []
    },
    {
      "cell_type": "markdown",
      "source": [
        "##Etapa2 - Compilando a biblioteca"
      ],
      "metadata": {
        "id": "wbtdzv6IJicU"
      }
    },
    {
      "cell_type": "code",
      "source": [
        "cd /content/darknet"
      ],
      "metadata": {
        "id": "uqZrv1acJm0-"
      },
      "execution_count": null,
      "outputs": []
    },
    {
      "cell_type": "code",
      "source": [
        "# essa linha de código garante que a darknet possa ser recompilada caso necessario\n",
        "# uma vez compilada a darknet , nao basta reinciar a celula de execucao do colab para refazer o processo,\n",
        "# eh preciso rodar essa linha de codigo abaixo:\n",
        "rm -rf ./obj/image_opencv.o ./obj/http_stream.o ./obj/gemm.o ./obj/utils.o ./obj/dark_cuda.o ./obj/convolutional_layer.o ./obj/list.o ./obj/image.o ./obj/activations.o ./obj/im2col.o ./obj/col2im.o ./obj/blas.o ./obj/crop_layer.o ./obj/dropout_layer.o ./obj/maxpool_layer.o ./obj/softmax_layer.o ./obj/data.o ./obj/matrix.o ./obj/network.o ./obj/connected_layer.o ./obj/cost_layer.o ./obj/parser.o ./obj/option_list.o ./obj/darknet.o ./obj/detection_layer.o ./obj/captcha.o ./obj/route_layer.o ./obj/writing.o ./obj/box.o ./obj/nightmare.o ./obj/normalization_layer.o ./obj/avgpool_layer.o ./obj/coco.o ./obj/dice.o ./obj/yolo.o ./obj/detector.o ./obj/layer.o ./obj/compare.o ./obj/classifier.o ./obj/local_layer.o ./obj/swag.o ./obj/shortcut_layer.o ./obj/activation_layer.o ./obj/rnn_layer.o ./obj/gru_layer.o ./obj/rnn.o ./obj/rnn_vid.o ./obj/crnn_layer.o ./obj/demo.o ./obj/tag.o ./obj/cifar.o ./obj/go.o ./obj/batchnorm_layer.o ./obj/art.o ./obj/region_layer.o ./obj/reorg_layer.o ./obj/reorg_old_layer.o ./obj/super.o ./obj/voxel.o ./obj/tree.o ./obj/yolo_layer.o ./obj/gaussian_yolo_layer.o ./obj/upsample_layer.o ./obj/lstm_layer.o ./obj/conv_lstm_layer.o ./obj/scale_channels_layer.o ./obj/sam_layer.o darknet"
      ],
      "metadata": {
        "id": "_hWAUOxAO5yi"
      },
      "execution_count": null,
      "outputs": []
    },
    {
      "cell_type": "code",
      "source": [
        "# ativando a GPU e o OPENCV como suporte a darknet\n",
        "!sed -i 's/OPENCV=0/OPENCV=1/' Makefile\n",
        "!sed -i 's/GPU=0/GPU=1/' Makefile\n",
        "!sed -i 's/CUDNN=0/CUDNN=1/' Makefile"
      ],
      "metadata": {
        "id": "yyIvYGToPCSi"
      },
      "execution_count": null,
      "outputs": []
    },
    {
      "cell_type": "code",
      "source": [
        "!make"
      ],
      "metadata": {
        "id": "7Jg1pBgiJrhC"
      },
      "execution_count": null,
      "outputs": []
    },
    {
      "cell_type": "markdown",
      "source": [
        "##Etapa3 - Baixando os pesos pré-treinados"
      ],
      "metadata": {
        "id": "xwUwewJWJwjg"
      }
    },
    {
      "cell_type": "code",
      "source": [
        "!wget https://github.com/AlexeyAB/darknet/releases/download/darknet_yolo_v3_optimal/yolov4.weights"
      ],
      "metadata": {
        "id": "b0b1ycwDJ0fF"
      },
      "execution_count": null,
      "outputs": []
    },
    {
      "cell_type": "markdown",
      "source": [
        "##Etapa4 - Testando o detector"
      ],
      "metadata": {
        "id": "PDf3CXdsKbQv"
      }
    },
    {
      "cell_type": "code",
      "source": [
        "!./darknet detect cfg/yolov4.cfg yolov4.weights data/person.jpg"
      ],
      "metadata": {
        "id": "t7jdcJv3KilS"
      },
      "execution_count": null,
      "outputs": []
    },
    {
      "cell_type": "markdown",
      "source": [
        "##Etapa5 - Visualizando a imagem"
      ],
      "metadata": {
        "id": "dPrxomE3Maku"
      }
    },
    {
      "cell_type": "code",
      "source": [
        "import cv2\n",
        "import matplotlib.pyplot as plt\n",
        "\n",
        "def mostrar(caminho):\n",
        "    imagem = cv2.imread(caminho)\n",
        "    fig = plt.gcf()\n",
        "    fig.set_size_inches(18,10)\n",
        "    plt.axis = (\"off\")\n",
        "    plt.imshow(cv2.cvtColor(imagem, cv2.COLOR_BGR2RGB))\n",
        "    plt.show()\n"
      ],
      "metadata": {
        "id": "DYpjl1CvMeKR"
      },
      "execution_count": null,
      "outputs": []
    },
    {
      "cell_type": "code",
      "source": [
        "mostrar('/content/darknet/predictions.jpg')"
      ],
      "metadata": {
        "id": "BKtciFdvNCE2"
      },
      "execution_count": null,
      "outputs": []
    },
    {
      "cell_type": "markdown",
      "source": [
        "##Etapa6 - Testando com qualquer imagem..."
      ],
      "metadata": {
        "id": "kTqpfyqPNJ_I"
      }
    },
    {
      "cell_type": "code",
      "source": [
        "!./darknet detect cfg/yolov4.cfg yolov4.weights /content/darknet/data/eagle.jpg"
      ],
      "metadata": {
        "id": "gn_9Ul7zP4Oy"
      },
      "execution_count": null,
      "outputs": []
    },
    {
      "cell_type": "code",
      "source": [
        "mostrar('/content/darknet/predictions.jpg')"
      ],
      "metadata": {
        "id": "-YbkvnnYQEub"
      },
      "execution_count": null,
      "outputs": []
    },
    {
      "cell_type": "markdown",
      "source": [
        "##Etapa7 - Facilitando nosso trabalho - Algumas funcçoes interessantes"
      ],
      "metadata": {
        "id": "hWCXeeuhRmnw"
      }
    },
    {
      "cell_type": "code",
      "source": [
        "import os\n",
        "def detectar(imagem):\n",
        "    os.system(f\"cd /content/darknet && ./darknet detect cfg/yolov4.cfg yolov4.weights {imagem}\")\n",
        "    mostrar('/content/darknet/predictions.jpg')\n"
      ],
      "metadata": {
        "id": "PYcCsYM1Rp9Q"
      },
      "execution_count": null,
      "outputs": []
    },
    {
      "cell_type": "code",
      "source": [
        "import os\n",
        "def listar_jpg(caminho):\n",
        "    return [os.path.join(caminho, file) for file in os.listdir(caminho) if file.lower().endswith('.jpg')]"
      ],
      "metadata": {
        "id": "RL6xIY3JS1vT"
      },
      "execution_count": null,
      "outputs": []
    },
    {
      "cell_type": "code",
      "source": [
        "detectar('/content/darknet/data/dog.jpg')"
      ],
      "metadata": {
        "id": "w6V0P-btSGwR"
      },
      "execution_count": null,
      "outputs": []
    },
    {
      "cell_type": "code",
      "source": [],
      "metadata": {
        "id": "tH2M7Ki4Tv3y"
      },
      "execution_count": null,
      "outputs": []
    },
    {
      "cell_type": "code",
      "source": [
        "for image in listar_jpg('/content/darknet/data'):\n",
        "    detectar(image)\n"
      ],
      "metadata": {
        "id": "mYJqnfJuTLGz"
      },
      "execution_count": null,
      "outputs": []
    },
    {
      "cell_type": "markdown",
      "source": [
        "##Etapa8 - Carregando fotos personalizadas do drive"
      ],
      "metadata": {
        "id": "plJQpO5bUkrT"
      }
    },
    {
      "cell_type": "code",
      "source": [
        "from google.colab import drive\n",
        "drive.mount('/content/gdrive')"
      ],
      "metadata": {
        "id": "38lopdQTUqgX"
      },
      "execution_count": null,
      "outputs": []
    },
    {
      "cell_type": "code",
      "source": [
        "detectar('/content/gdrive/MyDrive/ColabNotebooks/CatDetector/tito3.jpg')"
      ],
      "metadata": {
        "id": "o3gAH_fyVmdl"
      },
      "execution_count": null,
      "outputs": []
    },
    {
      "cell_type": "markdown",
      "source": [
        "##Etapa9 - Definindo um percentual minimo aceito para detecção (threshold):"
      ],
      "metadata": {
        "id": "gEpiLEDwa_Vx"
      }
    },
    {
      "cell_type": "code",
      "source": [
        "!./darknet detect cfg/yolov4.cfg yolov4.weights /content/darknet/data/horses.jpg -thresh 0.98"
      ],
      "metadata": {
        "id": "ie95rlGFbGPq"
      },
      "execution_count": null,
      "outputs": []
    },
    {
      "cell_type": "code",
      "source": [
        "mostrar('/content/darknet/predictions.jpg')"
      ],
      "metadata": {
        "id": "7TglyWIjbTBe"
      },
      "execution_count": null,
      "outputs": []
    },
    {
      "cell_type": "markdown",
      "source": [
        "##Etapa10 - Obtendo as posicoes dos animais detectados (ext_output)"
      ],
      "metadata": {
        "id": "EhwhaTiva5rP"
      }
    },
    {
      "cell_type": "code",
      "source": [
        "!./darknet detect cfg/yolov4.cfg yolov4.weights /content/darknet/data/horses.jpg -ext_output"
      ],
      "metadata": {
        "id": "hIQR3rVEbW6y"
      },
      "execution_count": null,
      "outputs": []
    },
    {
      "cell_type": "code",
      "source": [
        "mostrar('/content/darknet/predictions.jpg')"
      ],
      "metadata": {
        "id": "7LYJoNrobYHm"
      },
      "execution_count": null,
      "outputs": []
    },
    {
      "cell_type": "markdown",
      "source": [
        "##Etapa11 - Salvar no drive os modelos pré-treinados"
      ],
      "metadata": {
        "id": "TZdtmDY-ipNQ"
      }
    },
    {
      "cell_type": "code",
      "source": [
        "!zip -r modelo_YOLOv4.zip yolov4.weights cfg/yolov4.cfg cfg/coco.names"
      ],
      "metadata": {
        "id": "psj4i9UviuUB"
      },
      "execution_count": null,
      "outputs": []
    },
    {
      "cell_type": "code",
      "source": [
        "!cp modelo_YOLOv4.zip /content/gdrive/MyDrive/yolov4/modelo_YOLOv4.zip"
      ],
      "metadata": {
        "id": "VMjcvWaBiwrt"
      },
      "execution_count": null,
      "outputs": []
    },
    {
      "cell_type": "markdown",
      "metadata": {
        "id": "h8gH8P_ed1lt"
      },
      "source": [
        "## Detectando objeto com outros modelos treinados"
      ]
    },
    {
      "cell_type": "markdown",
      "metadata": {
        "id": "DEwHVv14_SKu"
      },
      "source": [
        "### Download dos pesos (da internet)"
      ]
    },
    {
      "cell_type": "code",
      "metadata": {
        "id": "ohC3AG1YyxFa"
      },
      "source": [
        "!wget https://pjreddie.com/media/files/yolov3-openimages.weights"
      ],
      "execution_count": null,
      "outputs": []
    },
    {
      "cell_type": "code",
      "metadata": {
        "id": "XrgqHFZm1520"
      },
      "source": [
        "ls"
      ],
      "execution_count": null,
      "outputs": []
    },
    {
      "cell_type": "code",
      "metadata": {
        "id": "P7KIhcNT2AzS"
      },
      "source": [
        "ls cfg"
      ],
      "execution_count": null,
      "outputs": []
    },
    {
      "cell_type": "code",
      "metadata": {
        "id": "Lbk2wdYZ2MJQ"
      },
      "source": [
        "!./darknet detector test cfg/openimages.data cfg/yolov3-openimages.cfg yolov3-openimages.weights data/dog.jpg"
      ],
      "execution_count": null,
      "outputs": []
    },
    {
      "cell_type": "code",
      "metadata": {
        "id": "sY6-05xd37QM"
      },
      "source": [
        "mostrar('predictions.jpg')"
      ],
      "execution_count": null,
      "outputs": []
    },
    {
      "cell_type": "code",
      "metadata": {
        "id": "YhJItzBC4iRh"
      },
      "source": [
        "!wget https://github.com/AlexeyAB/darknet/releases/download/darknet_yolo_v4_pre/yolov4-tiny.weights"
      ],
      "execution_count": null,
      "outputs": []
    },
    {
      "cell_type": "code",
      "metadata": {
        "id": "I_azGFDx4sNb"
      },
      "source": [
        "ls"
      ],
      "execution_count": null,
      "outputs": []
    },
    {
      "cell_type": "code",
      "metadata": {
        "id": "zGwsI-C64xZt"
      },
      "source": [
        "ls cfg"
      ],
      "execution_count": null,
      "outputs": []
    },
    {
      "cell_type": "code",
      "metadata": {
        "id": "vyPHgLoq46vC"
      },
      "source": [
        "!./darknet detector test cfg/coco.data cfg/yolov4-tiny.cfg yolov4-tiny.weights data/dog.jpg"
      ],
      "execution_count": null,
      "outputs": []
    },
    {
      "cell_type": "code",
      "metadata": {
        "id": "POjX_9G05fjR"
      },
      "source": [
        "mostrar('predictions.jpg')"
      ],
      "execution_count": null,
      "outputs": []
    }
  ]
}