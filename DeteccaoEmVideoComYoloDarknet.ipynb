{
  "nbformat": 4,
  "nbformat_minor": 0,
  "metadata": {
    "colab": {
      "provenance": [],
      "gpuType": "T4",
      "collapsed_sections": [
        "1nqgo0hSmfSU",
        "fzCtD78Nm-dL",
        "ew9e2a9nnrpo",
        "0OkbGRff3G0j",
        "5yCNbLW44Sym"
      ],
      "authorship_tag": "ABX9TyNk7LNQRXALuH1tA+a0kUNv",
      "include_colab_link": true
    },
    "kernelspec": {
      "name": "python3",
      "display_name": "Python 3"
    },
    "language_info": {
      "name": "python"
    },
    "accelerator": "GPU"
  },
  "cells": [
    {
      "cell_type": "markdown",
      "metadata": {
        "id": "view-in-github",
        "colab_type": "text"
      },
      "source": [
        "<a href=\"https://colab.research.google.com/github/jorgemarquesferreirajunior/YOLO/blob/main/DeteccaoEmVideoComYoloDarknet.ipynb\" target=\"_parent\"><img src=\"https://colab.research.google.com/assets/colab-badge.svg\" alt=\"Open In Colab\"/></a>"
      ]
    },
    {
      "cell_type": "markdown",
      "source": [
        "#Deteccao em videos - darknet"
      ],
      "metadata": {
        "id": "-vakZWmNsbdc"
      }
    },
    {
      "cell_type": "markdown",
      "source": [
        "##1- Download da darknet"
      ],
      "metadata": {
        "id": "1nqgo0hSmfSU"
      }
    },
    {
      "cell_type": "code",
      "execution_count": null,
      "metadata": {
        "id": "dZAkD1-LmNxM"
      },
      "outputs": [],
      "source": [
        "!git clone https://github.com/AlexeyAB/darknet.git"
      ]
    },
    {
      "cell_type": "code",
      "source": [
        "cd darknet"
      ],
      "metadata": {
        "id": "NkF3iKhkmzT0"
      },
      "execution_count": null,
      "outputs": []
    },
    {
      "cell_type": "markdown",
      "source": [
        "##2- Compilar a darknet para uso da GPU"
      ],
      "metadata": {
        "id": "kqjFfIntm2nw"
      }
    },
    {
      "cell_type": "markdown",
      "source": [
        "###Verificando o uso da GPU:\n"
      ],
      "metadata": {
        "id": "fzCtD78Nm-dL"
      }
    },
    {
      "cell_type": "code",
      "source": [
        "import tensorflow as tf\n",
        "device = tf.test.gpu_device_name()\n",
        "\n",
        "if device:\n",
        "    print(f\"GPU habilitada: {device}\")\n",
        "else:\n",
        "    print(f\"Utilizando apenas CPU\")"
      ],
      "metadata": {
        "id": "PbjsvirQnD4t"
      },
      "execution_count": null,
      "outputs": []
    },
    {
      "cell_type": "markdown",
      "source": [
        "###Compilando a darknet"
      ],
      "metadata": {
        "id": "ew9e2a9nnrpo"
      }
    },
    {
      "cell_type": "code",
      "source": [
        "!sed -i 's/OPENCV=0/OPENCV=1/' Makefile\n",
        "!sed -i 's/GPU=0/GPU=1/' Makefile\n",
        "!sed -i 's/CUDNN=0/CUDNN=1/' Makefile"
      ],
      "metadata": {
        "id": "TxoQkg1hm6FK"
      },
      "execution_count": null,
      "outputs": []
    },
    {
      "cell_type": "code",
      "source": [
        "!make"
      ],
      "metadata": {
        "id": "VmGIh9SwnxWF"
      },
      "execution_count": null,
      "outputs": []
    },
    {
      "cell_type": "markdown",
      "source": [
        "##3- Carregar pesos pré-treinados"
      ],
      "metadata": {
        "id": "0OkbGRff3G0j"
      }
    },
    {
      "cell_type": "code",
      "source": [
        "from google.colab import drive\n",
        "import zipfile\n",
        "drive.mount('/content/gdrive')"
      ],
      "metadata": {
        "id": "xGY5R09x3MHu"
      },
      "execution_count": null,
      "outputs": []
    },
    {
      "cell_type": "code",
      "source": [
        "cd /content"
      ],
      "metadata": {
        "id": "AfWNBkVc3z9m"
      },
      "execution_count": null,
      "outputs": []
    },
    {
      "cell_type": "code",
      "source": [
        "path = \"/content/gdrive/MyDrive/yolov4/modelo_YOLOv4.zip\"\n",
        "zip_obj = zipfile.ZipFile(file=path, mode='r')\n",
        "zip_obj.extractall('./')\n",
        "zip_obj.close()"
      ],
      "metadata": {
        "id": "X4uz8pqu3VCK"
      },
      "execution_count": null,
      "outputs": []
    },
    {
      "cell_type": "markdown",
      "source": [
        "##Carregando o video"
      ],
      "metadata": {
        "id": "44nbnxzS4Nav"
      }
    },
    {
      "cell_type": "markdown",
      "source": [
        "###De uma URL"
      ],
      "metadata": {
        "id": "5yCNbLW44Sym"
      }
    },
    {
      "cell_type": "code",
      "source": [
        "!wget https://github.com/gabevr/yolo/raw/master/videos/video_teste02.mp4"
      ],
      "metadata": {
        "id": "Zl6EU4yg4UiC"
      },
      "execution_count": null,
      "outputs": []
    },
    {
      "cell_type": "markdown",
      "source": [
        "###Do google drive"
      ],
      "metadata": {
        "id": "32_S3sGc4VVg"
      }
    },
    {
      "cell_type": "code",
      "source": [
        "!cp /content/gdrive/MyDrive/yolov4/video01.mp4 ./"
      ],
      "metadata": {
        "id": "vKSCrAIX4P_Z"
      },
      "execution_count": null,
      "outputs": []
    },
    {
      "cell_type": "markdown",
      "source": [
        "##4- Realizando a detecção em vídeo"
      ],
      "metadata": {
        "id": "3A9fO2095OjD"
      }
    },
    {
      "cell_type": "code",
      "source": [
        "cd /content/darknet/"
      ],
      "metadata": {
        "id": "_4i45O1n6SVr"
      },
      "execution_count": null,
      "outputs": []
    },
    {
      "cell_type": "code",
      "source": [
        "!./darknet detector demo cfg/coco.data cfg/yolov4.cfg /content/yolov4.weights -dont_show /content/video01.mp4 -i 0 -out_filename resultado.avi"
      ],
      "metadata": {
        "id": "1WY2CiKH5RxZ"
      },
      "execution_count": null,
      "outputs": []
    },
    {
      "cell_type": "markdown",
      "source": [
        "###Verificando o tamanho do arquivo resultado"
      ],
      "metadata": {
        "id": "h8nQ6wiH_XQl"
      }
    },
    {
      "cell_type": "code",
      "source": [
        "!du -h resultado.avi"
      ],
      "metadata": {
        "id": "21ZDhDT1_TWL"
      },
      "execution_count": null,
      "outputs": []
    },
    {
      "cell_type": "markdown",
      "source": [
        "###Copiando o resultado para o drive"
      ],
      "metadata": {
        "id": "C4lTh5_c_nHi"
      }
    },
    {
      "cell_type": "code",
      "source": [
        "!cp ./resultado.avi /content/gdrive/MyDrive/yolov4/resultados/resultado1.avi"
      ],
      "metadata": {
        "id": "pjg3O8Cm_pcP"
      },
      "execution_count": null,
      "outputs": []
    },
    {
      "cell_type": "markdown",
      "source": [
        "##5- Especificando um threshold"
      ],
      "metadata": {
        "id": "Ju3nHNd-BEA-"
      }
    },
    {
      "cell_type": "code",
      "source": [
        "!cp /content/gdrive/MyDrive/yolov4/video_rua01.mp4 /content/"
      ],
      "metadata": {
        "id": "fdq-o4tIBXHh"
      },
      "execution_count": null,
      "outputs": []
    },
    {
      "cell_type": "code",
      "source": [
        "!./darknet detector demo cfg/coco.data cfg/yolov4.cfg /content/yolov4.weights -dont_show /content/video_rua01.mp4 -i 0 -out_filename resultado2.mp4 -thresh 0.3"
      ],
      "metadata": {
        "id": "aU_qf6dDBsIk"
      },
      "execution_count": null,
      "outputs": []
    },
    {
      "cell_type": "code",
      "source": [
        "!cp ./resultado2.mp4 /content/gdrive/MyDrive/yolov4/resultados/resultado2.mp4"
      ],
      "metadata": {
        "id": "cj1TM02KCXo0"
      },
      "execution_count": null,
      "outputs": []
    }
  ]
}